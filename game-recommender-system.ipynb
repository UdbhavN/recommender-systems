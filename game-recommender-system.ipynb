{
 "cells": [
  {
   "cell_type": "code",
   "execution_count": 1,
   "metadata": {
    "execution": {
     "iopub.execute_input": "2022-08-10T06:53:40.327123Z",
     "iopub.status.busy": "2022-08-10T06:53:40.326731Z",
     "iopub.status.idle": "2022-08-10T06:53:41.019382Z",
     "shell.execute_reply": "2022-08-10T06:53:41.018173Z",
     "shell.execute_reply.started": "2022-08-10T06:53:40.327092Z"
    }
   },
   "outputs": [],
   "source": [
    "import numpy as np\n",
    "import pandas as pd\n",
    "import seaborn as sns\n",
    "import matplotlib.pyplot as plt\n",
    "%matplotlib inline\n",
    "import warnings\n",
    "warnings.filterwarnings('ignore' )"
   ]
  },
  {
   "cell_type": "code",
   "execution_count": 2,
   "metadata": {
    "execution": {
     "iopub.execute_input": "2022-08-10T06:53:41.021469Z",
     "iopub.status.busy": "2022-08-10T06:53:41.021111Z",
     "iopub.status.idle": "2022-08-10T06:53:41.031665Z",
     "shell.execute_reply": "2022-08-10T06:53:41.030353Z",
     "shell.execute_reply.started": "2022-08-10T06:53:41.021439Z"
    }
   },
   "outputs": [],
   "source": [
    "import numpy as np # linear algebra\n",
    "import pandas as pd # data processing, CSV file I/O (e.g. pd.read_csv)\n",
    "\n"
   ]
  },
  {
   "cell_type": "code",
   "execution_count": 3,
   "metadata": {
    "execution": {
     "iopub.execute_input": "2022-08-10T06:53:41.035265Z",
     "iopub.status.busy": "2022-08-10T06:53:41.033893Z",
     "iopub.status.idle": "2022-08-10T06:53:41.279196Z",
     "shell.execute_reply": "2022-08-10T06:53:41.278207Z",
     "shell.execute_reply.started": "2022-08-10T06:53:41.035198Z"
    }
   },
   "outputs": [],
   "source": [
    "df = pd.read_csv(\"D:/Documents/Sem 7/Recommender systems/steam-200k.csv/steam-200k.csv\")\n"
   ]
  },
  {
   "cell_type": "code",
   "execution_count": 4,
   "metadata": {
    "execution": {
     "iopub.execute_input": "2022-08-10T06:53:41.282081Z",
     "iopub.status.busy": "2022-08-10T06:53:41.281668Z",
     "iopub.status.idle": "2022-08-10T06:53:41.305180Z",
     "shell.execute_reply": "2022-08-10T06:53:41.304234Z",
     "shell.execute_reply.started": "2022-08-10T06:53:41.282044Z"
    }
   },
   "outputs": [
    {
     "data": {
      "text/html": [
       "<div>\n",
       "<style scoped>\n",
       "    .dataframe tbody tr th:only-of-type {\n",
       "        vertical-align: middle;\n",
       "    }\n",
       "\n",
       "    .dataframe tbody tr th {\n",
       "        vertical-align: top;\n",
       "    }\n",
       "\n",
       "    .dataframe thead th {\n",
       "        text-align: right;\n",
       "    }\n",
       "</style>\n",
       "<table border=\"1\" class=\"dataframe\">\n",
       "  <thead>\n",
       "    <tr style=\"text-align: right;\">\n",
       "      <th></th>\n",
       "      <th>151603712</th>\n",
       "      <th>The Elder Scrolls V Skyrim</th>\n",
       "      <th>purchase</th>\n",
       "      <th>1.0</th>\n",
       "      <th>0</th>\n",
       "    </tr>\n",
       "  </thead>\n",
       "  <tbody>\n",
       "    <tr>\n",
       "      <th>0</th>\n",
       "      <td>151603712</td>\n",
       "      <td>The Elder Scrolls V Skyrim</td>\n",
       "      <td>play</td>\n",
       "      <td>273.0</td>\n",
       "      <td>0</td>\n",
       "    </tr>\n",
       "    <tr>\n",
       "      <th>1</th>\n",
       "      <td>151603712</td>\n",
       "      <td>Fallout 4</td>\n",
       "      <td>purchase</td>\n",
       "      <td>1.0</td>\n",
       "      <td>0</td>\n",
       "    </tr>\n",
       "    <tr>\n",
       "      <th>2</th>\n",
       "      <td>151603712</td>\n",
       "      <td>Fallout 4</td>\n",
       "      <td>play</td>\n",
       "      <td>87.0</td>\n",
       "      <td>0</td>\n",
       "    </tr>\n",
       "    <tr>\n",
       "      <th>3</th>\n",
       "      <td>151603712</td>\n",
       "      <td>Spore</td>\n",
       "      <td>purchase</td>\n",
       "      <td>1.0</td>\n",
       "      <td>0</td>\n",
       "    </tr>\n",
       "    <tr>\n",
       "      <th>4</th>\n",
       "      <td>151603712</td>\n",
       "      <td>Spore</td>\n",
       "      <td>play</td>\n",
       "      <td>14.9</td>\n",
       "      <td>0</td>\n",
       "    </tr>\n",
       "  </tbody>\n",
       "</table>\n",
       "</div>"
      ],
      "text/plain": [
       "   151603712  The Elder Scrolls V Skyrim  purchase    1.0  0\n",
       "0  151603712  The Elder Scrolls V Skyrim      play  273.0  0\n",
       "1  151603712                   Fallout 4  purchase    1.0  0\n",
       "2  151603712                   Fallout 4      play   87.0  0\n",
       "3  151603712                       Spore  purchase    1.0  0\n",
       "4  151603712                       Spore      play   14.9  0"
      ]
     },
     "execution_count": 4,
     "metadata": {},
     "output_type": "execute_result"
    }
   ],
   "source": [
    "df.head()"
   ]
  },
  {
   "cell_type": "code",
   "execution_count": 5,
   "metadata": {
    "execution": {
     "iopub.execute_input": "2022-08-10T06:53:41.307243Z",
     "iopub.status.busy": "2022-08-10T06:53:41.306331Z",
     "iopub.status.idle": "2022-08-10T06:53:41.318055Z",
     "shell.execute_reply": "2022-08-10T06:53:41.316698Z",
     "shell.execute_reply.started": "2022-08-10T06:53:41.307207Z"
    }
   },
   "outputs": [],
   "source": [
    "cols = {'151603712':'game_id','The Elder Scrolls V Skyrim':'game_name','purchase':'status','1.0':'Hourplayed'}\n",
    "df.rename(columns = cols,inplace =True)"
   ]
  },
  {
   "cell_type": "code",
   "execution_count": 6,
   "metadata": {
    "execution": {
     "iopub.execute_input": "2022-08-10T06:53:41.320130Z",
     "iopub.status.busy": "2022-08-10T06:53:41.319493Z",
     "iopub.status.idle": "2022-08-10T06:53:41.339604Z",
     "shell.execute_reply": "2022-08-10T06:53:41.338200Z",
     "shell.execute_reply.started": "2022-08-10T06:53:41.320093Z"
    }
   },
   "outputs": [
    {
     "data": {
      "text/html": [
       "<div>\n",
       "<style scoped>\n",
       "    .dataframe tbody tr th:only-of-type {\n",
       "        vertical-align: middle;\n",
       "    }\n",
       "\n",
       "    .dataframe tbody tr th {\n",
       "        vertical-align: top;\n",
       "    }\n",
       "\n",
       "    .dataframe thead th {\n",
       "        text-align: right;\n",
       "    }\n",
       "</style>\n",
       "<table border=\"1\" class=\"dataframe\">\n",
       "  <thead>\n",
       "    <tr style=\"text-align: right;\">\n",
       "      <th></th>\n",
       "      <th>game_id</th>\n",
       "      <th>game_name</th>\n",
       "      <th>status</th>\n",
       "      <th>Hourplayed</th>\n",
       "      <th>0</th>\n",
       "    </tr>\n",
       "  </thead>\n",
       "  <tbody>\n",
       "    <tr>\n",
       "      <th>0</th>\n",
       "      <td>151603712</td>\n",
       "      <td>The Elder Scrolls V Skyrim</td>\n",
       "      <td>play</td>\n",
       "      <td>273.0</td>\n",
       "      <td>0</td>\n",
       "    </tr>\n",
       "    <tr>\n",
       "      <th>1</th>\n",
       "      <td>151603712</td>\n",
       "      <td>Fallout 4</td>\n",
       "      <td>purchase</td>\n",
       "      <td>1.0</td>\n",
       "      <td>0</td>\n",
       "    </tr>\n",
       "    <tr>\n",
       "      <th>2</th>\n",
       "      <td>151603712</td>\n",
       "      <td>Fallout 4</td>\n",
       "      <td>play</td>\n",
       "      <td>87.0</td>\n",
       "      <td>0</td>\n",
       "    </tr>\n",
       "    <tr>\n",
       "      <th>3</th>\n",
       "      <td>151603712</td>\n",
       "      <td>Spore</td>\n",
       "      <td>purchase</td>\n",
       "      <td>1.0</td>\n",
       "      <td>0</td>\n",
       "    </tr>\n",
       "    <tr>\n",
       "      <th>4</th>\n",
       "      <td>151603712</td>\n",
       "      <td>Spore</td>\n",
       "      <td>play</td>\n",
       "      <td>14.9</td>\n",
       "      <td>0</td>\n",
       "    </tr>\n",
       "  </tbody>\n",
       "</table>\n",
       "</div>"
      ],
      "text/plain": [
       "     game_id                   game_name    status  Hourplayed  0\n",
       "0  151603712  The Elder Scrolls V Skyrim      play       273.0  0\n",
       "1  151603712                   Fallout 4  purchase         1.0  0\n",
       "2  151603712                   Fallout 4      play        87.0  0\n",
       "3  151603712                       Spore  purchase         1.0  0\n",
       "4  151603712                       Spore      play        14.9  0"
      ]
     },
     "execution_count": 6,
     "metadata": {},
     "output_type": "execute_result"
    }
   ],
   "source": [
    "df.head()"
   ]
  },
  {
   "cell_type": "code",
   "execution_count": 7,
   "metadata": {
    "execution": {
     "iopub.execute_input": "2022-08-10T06:53:41.343005Z",
     "iopub.status.busy": "2022-08-10T06:53:41.341865Z",
     "iopub.status.idle": "2022-08-10T06:53:41.361095Z",
     "shell.execute_reply": "2022-08-10T06:53:41.359977Z",
     "shell.execute_reply.started": "2022-08-10T06:53:41.342956Z"
    }
   },
   "outputs": [],
   "source": [
    "df.drop(columns =['0'],inplace =True)"
   ]
  },
  {
   "cell_type": "code",
   "execution_count": 8,
   "metadata": {
    "execution": {
     "iopub.execute_input": "2022-08-10T06:53:41.363126Z",
     "iopub.status.busy": "2022-08-10T06:53:41.362479Z",
     "iopub.status.idle": "2022-08-10T06:53:41.378400Z",
     "shell.execute_reply": "2022-08-10T06:53:41.377396Z",
     "shell.execute_reply.started": "2022-08-10T06:53:41.363089Z"
    }
   },
   "outputs": [
    {
     "data": {
      "text/plain": [
       "(199999, 4)"
      ]
     },
     "execution_count": 8,
     "metadata": {},
     "output_type": "execute_result"
    }
   ],
   "source": [
    "df.shape"
   ]
  },
  {
   "cell_type": "code",
   "execution_count": 9,
   "metadata": {
    "execution": {
     "iopub.execute_input": "2022-08-10T06:53:41.381012Z",
     "iopub.status.busy": "2022-08-10T06:53:41.380090Z",
     "iopub.status.idle": "2022-08-10T06:53:41.454728Z",
     "shell.execute_reply": "2022-08-10T06:53:41.453745Z",
     "shell.execute_reply.started": "2022-08-10T06:53:41.380962Z"
    }
   },
   "outputs": [
    {
     "data": {
      "text/plain": [
       "707"
      ]
     },
     "execution_count": 9,
     "metadata": {},
     "output_type": "execute_result"
    }
   ],
   "source": [
    "df.duplicated().sum()"
   ]
  },
  {
   "cell_type": "code",
   "execution_count": 10,
   "metadata": {
    "execution": {
     "iopub.execute_input": "2022-08-10T06:53:41.459305Z",
     "iopub.status.busy": "2022-08-10T06:53:41.458345Z",
     "iopub.status.idle": "2022-08-10T06:53:41.541143Z",
     "shell.execute_reply": "2022-08-10T06:53:41.539799Z",
     "shell.execute_reply.started": "2022-08-10T06:53:41.459262Z"
    }
   },
   "outputs": [],
   "source": [
    "# droping a duplicated values:\n",
    "df.drop_duplicates(inplace=True)"
   ]
  },
  {
   "cell_type": "code",
   "execution_count": 11,
   "metadata": {
    "execution": {
     "iopub.execute_input": "2022-08-10T06:53:41.543196Z",
     "iopub.status.busy": "2022-08-10T06:53:41.542725Z",
     "iopub.status.idle": "2022-08-10T06:53:41.572677Z",
     "shell.execute_reply": "2022-08-10T06:53:41.571678Z",
     "shell.execute_reply.started": "2022-08-10T06:53:41.543150Z"
    }
   },
   "outputs": [
    {
     "data": {
      "text/plain": [
       "game_id       0\n",
       "game_name     0\n",
       "status        0\n",
       "Hourplayed    0\n",
       "dtype: int64"
      ]
     },
     "execution_count": 11,
     "metadata": {},
     "output_type": "execute_result"
    }
   ],
   "source": [
    "df.isnull().sum()"
   ]
  },
  {
   "cell_type": "code",
   "execution_count": 12,
   "metadata": {
    "execution": {
     "iopub.execute_input": "2022-08-10T06:53:41.574474Z",
     "iopub.status.busy": "2022-08-10T06:53:41.574078Z",
     "iopub.status.idle": "2022-08-10T06:53:41.613233Z",
     "shell.execute_reply": "2022-08-10T06:53:41.611907Z",
     "shell.execute_reply.started": "2022-08-10T06:53:41.574432Z"
    }
   },
   "outputs": [
    {
     "name": "stdout",
     "output_type": "stream",
     "text": [
      "<class 'pandas.core.frame.DataFrame'>\n",
      "Int64Index: 199292 entries, 0 to 199998\n",
      "Data columns (total 4 columns):\n",
      " #   Column      Non-Null Count   Dtype  \n",
      "---  ------      --------------   -----  \n",
      " 0   game_id     199292 non-null  int64  \n",
      " 1   game_name   199292 non-null  object \n",
      " 2   status      199292 non-null  object \n",
      " 3   Hourplayed  199292 non-null  float64\n",
      "dtypes: float64(1), int64(1), object(2)\n",
      "memory usage: 7.6+ MB\n"
     ]
    }
   ],
   "source": [
    "df.info()"
   ]
  },
  {
   "cell_type": "code",
   "execution_count": 13,
   "metadata": {
    "execution": {
     "iopub.execute_input": "2022-08-10T06:53:41.615278Z",
     "iopub.status.busy": "2022-08-10T06:53:41.614787Z",
     "iopub.status.idle": "2022-08-10T06:53:41.650340Z",
     "shell.execute_reply": "2022-08-10T06:53:41.649378Z",
     "shell.execute_reply.started": "2022-08-10T06:53:41.615231Z"
    }
   },
   "outputs": [
    {
     "data": {
      "text/html": [
       "<div>\n",
       "<style scoped>\n",
       "    .dataframe tbody tr th:only-of-type {\n",
       "        vertical-align: middle;\n",
       "    }\n",
       "\n",
       "    .dataframe tbody tr th {\n",
       "        vertical-align: top;\n",
       "    }\n",
       "\n",
       "    .dataframe thead th {\n",
       "        text-align: right;\n",
       "    }\n",
       "</style>\n",
       "<table border=\"1\" class=\"dataframe\">\n",
       "  <thead>\n",
       "    <tr style=\"text-align: right;\">\n",
       "      <th></th>\n",
       "      <th>game_id</th>\n",
       "      <th>Hourplayed</th>\n",
       "    </tr>\n",
       "  </thead>\n",
       "  <tbody>\n",
       "    <tr>\n",
       "      <th>count</th>\n",
       "      <td>199292</td>\n",
       "      <td>199292</td>\n",
       "    </tr>\n",
       "    <tr>\n",
       "      <th>mean</th>\n",
       "      <td>103717860</td>\n",
       "      <td>17</td>\n",
       "    </tr>\n",
       "    <tr>\n",
       "      <th>std</th>\n",
       "      <td>72120577</td>\n",
       "      <td>138</td>\n",
       "    </tr>\n",
       "    <tr>\n",
       "      <th>min</th>\n",
       "      <td>5250</td>\n",
       "      <td>0</td>\n",
       "    </tr>\n",
       "    <tr>\n",
       "      <th>25%</th>\n",
       "      <td>47384303</td>\n",
       "      <td>1</td>\n",
       "    </tr>\n",
       "    <tr>\n",
       "      <th>50%</th>\n",
       "      <td>86912006</td>\n",
       "      <td>1</td>\n",
       "    </tr>\n",
       "    <tr>\n",
       "      <th>75%</th>\n",
       "      <td>154230933</td>\n",
       "      <td>1</td>\n",
       "    </tr>\n",
       "    <tr>\n",
       "      <th>max</th>\n",
       "      <td>309903146</td>\n",
       "      <td>11754</td>\n",
       "    </tr>\n",
       "  </tbody>\n",
       "</table>\n",
       "</div>"
      ],
      "text/plain": [
       "         game_id  Hourplayed\n",
       "count     199292      199292\n",
       "mean   103717860          17\n",
       "std     72120577         138\n",
       "min         5250           0\n",
       "25%     47384303           1\n",
       "50%     86912006           1\n",
       "75%    154230933           1\n",
       "max    309903146       11754"
      ]
     },
     "execution_count": 13,
     "metadata": {},
     "output_type": "execute_result"
    }
   ],
   "source": [
    "df.describe().astype(int)"
   ]
  },
  {
   "cell_type": "code",
   "execution_count": 14,
   "metadata": {
    "execution": {
     "iopub.execute_input": "2022-08-10T06:53:41.652387Z",
     "iopub.status.busy": "2022-08-10T06:53:41.651768Z",
     "iopub.status.idle": "2022-08-10T06:53:41.699959Z",
     "shell.execute_reply": "2022-08-10T06:53:41.698839Z",
     "shell.execute_reply.started": "2022-08-10T06:53:41.652352Z"
    }
   },
   "outputs": [
    {
     "data": {
      "text/plain": [
       "game_id       12393\n",
       "game_name      5155\n",
       "status            2\n",
       "Hourplayed     1593\n",
       "dtype: int64"
      ]
     },
     "execution_count": 14,
     "metadata": {},
     "output_type": "execute_result"
    }
   ],
   "source": [
    "df.nunique()"
   ]
  },
  {
   "cell_type": "code",
   "execution_count": 15,
   "metadata": {
    "execution": {
     "iopub.execute_input": "2022-08-10T06:53:41.702094Z",
     "iopub.status.busy": "2022-08-10T06:53:41.701719Z",
     "iopub.status.idle": "2022-08-10T06:53:41.732370Z",
     "shell.execute_reply": "2022-08-10T06:53:41.731115Z",
     "shell.execute_reply.started": "2022-08-10T06:53:41.702061Z"
    }
   },
   "outputs": [
    {
     "data": {
      "text/plain": [
       "array(['The Elder Scrolls V Skyrim', 'Fallout 4', 'Spore', ...,\n",
       "       'Space Colony', 'Life is Hard', 'Executive Assault'], dtype=object)"
      ]
     },
     "execution_count": 15,
     "metadata": {},
     "output_type": "execute_result"
    }
   ],
   "source": [
    "df['game_name'].unique()"
   ]
  },
  {
   "cell_type": "code",
   "execution_count": 16,
   "metadata": {
    "execution": {
     "iopub.execute_input": "2022-08-10T06:53:41.734343Z",
     "iopub.status.busy": "2022-08-10T06:53:41.733947Z",
     "iopub.status.idle": "2022-08-10T06:53:41.757570Z",
     "shell.execute_reply": "2022-08-10T06:53:41.756688Z",
     "shell.execute_reply.started": "2022-08-10T06:53:41.734312Z"
    }
   },
   "outputs": [
    {
     "data": {
      "text/plain": [
       "Dota 2                             9682\n",
       "Team Fortress 2                    4646\n",
       "Counter-Strike Global Offensive    2789\n",
       "Unturned                           2632\n",
       "Left 4 Dead 2                      1752\n",
       "                                   ... \n",
       "Putt-Putt Joins the Parade            1\n",
       "Ducati World Championship             1\n",
       "Chunk of Change Knight                1\n",
       "STASIS                                1\n",
       "Soccertron                            1\n",
       "Name: game_name, Length: 5155, dtype: int64"
      ]
     },
     "execution_count": 16,
     "metadata": {},
     "output_type": "execute_result"
    }
   ],
   "source": [
    "df['game_name'].value_counts()"
   ]
  },
  {
   "cell_type": "code",
   "execution_count": 17,
   "metadata": {
    "execution": {
     "iopub.execute_input": "2022-08-10T06:53:41.759184Z",
     "iopub.status.busy": "2022-08-10T06:53:41.758602Z",
     "iopub.status.idle": "2022-08-10T06:53:41.779341Z",
     "shell.execute_reply": "2022-08-10T06:53:41.777893Z",
     "shell.execute_reply.started": "2022-08-10T06:53:41.759153Z"
    }
   },
   "outputs": [
    {
     "data": {
      "text/plain": [
       "purchase    128803\n",
       "play         70489\n",
       "Name: status, dtype: int64"
      ]
     },
     "execution_count": 17,
     "metadata": {},
     "output_type": "execute_result"
    }
   ],
   "source": [
    "df['status'].value_counts()"
   ]
  },
  {
   "cell_type": "code",
   "execution_count": 18,
   "metadata": {
    "execution": {
     "iopub.execute_input": "2022-08-10T06:53:41.782810Z",
     "iopub.status.busy": "2022-08-10T06:53:41.782093Z",
     "iopub.status.idle": "2022-08-10T06:53:41.962336Z",
     "shell.execute_reply": "2022-08-10T06:53:41.961049Z",
     "shell.execute_reply.started": "2022-08-10T06:53:41.782774Z"
    }
   },
   "outputs": [
    {
     "data": {
      "text/plain": [
       "<AxesSubplot:ylabel='status'>"
      ]
     },
     "execution_count": 18,
     "metadata": {},
     "output_type": "execute_result"
    },
    {
     "data": {
      "image/png": "[encoded data removed]",
      "text/plain": [
       "<Figure size 640x480 with 1 Axes>"
      ]
     },
     "metadata": {},
     "output_type": "display_data"
    }
   ],
   "source": [
    "df['status'].value_counts().plot(kind ='pie',autopct = '%1.1f%%')"
   ]
  },
  {
   "cell_type": "code",
   "execution_count": 19,
   "metadata": {
    "execution": {
     "iopub.execute_input": "2022-08-10T06:53:42.419765Z",
     "iopub.status.busy": "2022-08-10T06:53:42.419402Z",
     "iopub.status.idle": "2022-08-10T06:53:42.720188Z",
     "shell.execute_reply": "2022-08-10T06:53:42.718897Z",
     "shell.execute_reply.started": "2022-08-10T06:53:42.419735Z"
    }
   },
   "outputs": [
    {
     "data": {
      "text/plain": [
       "<AxesSubplot:>"
      ]
     },
     "execution_count": 19,
     "metadata": {},
     "output_type": "execute_result"
    },
    {
     "data": {
      "image/png": "[encoded data removed]",
      "text/plain": [
       "<Figure size 1500x600 with 1 Axes>"
      ]
     },
     "metadata": {},
     "output_type": "display_data"
    }
   ],
   "source": [
    "# plotting the top 15 games:\n",
    "df['game_name'].value_counts().head(15).plot(kind = 'bar',figsize =(15,6))"
   ]
  },
  {
   "cell_type": "code",
   "execution_count": 20,
   "metadata": {
    "execution": {
     "iopub.execute_input": "2022-08-10T06:53:42.722358Z",
     "iopub.status.busy": "2022-08-10T06:53:42.721994Z",
     "iopub.status.idle": "2022-08-10T06:53:43.008229Z",
     "shell.execute_reply": "2022-08-10T06:53:43.006983Z",
     "shell.execute_reply.started": "2022-08-10T06:53:42.722324Z"
    }
   },
   "outputs": [
    {
     "data": {
      "text/plain": [
       "<AxesSubplot:ylabel='game_name'>"
      ]
     },
     "execution_count": 20,
     "metadata": {},
     "output_type": "execute_result"
    },
    {
     "data": {
      "image/png": "[encoded data removed]",
      "text/plain": [
       "<Figure size 1500x600 with 1 Axes>"
      ]
     },
     "metadata": {},
     "output_type": "display_data"
    }
   ],
   "source": [
    "df['game_name'].value_counts().head(15).plot(kind = 'pie',figsize =(15,6), autopct = '%1.1f%%')"
   ]
  },
  {
   "cell_type": "markdown",
   "metadata": {},
   "source": [
    "# Converting Hour into Rating:"
   ]
  },
  {
   "cell_type": "code",
   "execution_count": 21,
   "metadata": {
    "execution": {
     "iopub.execute_input": "2022-08-10T06:53:43.311762Z",
     "iopub.status.busy": "2022-08-10T06:53:43.311388Z",
     "iopub.status.idle": "2022-08-10T06:53:43.336160Z",
     "shell.execute_reply": "2022-08-10T06:53:43.335205Z",
     "shell.execute_reply.started": "2022-08-10T06:53:43.311729Z"
    }
   },
   "outputs": [],
   "source": [
    "# from this we get id of player how had played a game for more than or equal to 2 hours\n",
    "df= df[(df['Hourplayed']>=2) & (df['status']=='play')]"
   ]
  },
  {
   "cell_type": "code",
   "execution_count": 22,
   "metadata": {},
   "outputs": [
    {
     "data": {
      "text/html": [
       "<div>\n",
       "<style scoped>\n",
       "    .dataframe tbody tr th:only-of-type {\n",
       "        vertical-align: middle;\n",
       "    }\n",
       "\n",
       "    .dataframe tbody tr th {\n",
       "        vertical-align: top;\n",
       "    }\n",
       "\n",
       "    .dataframe thead th {\n",
       "        text-align: right;\n",
       "    }\n",
       "</style>\n",
       "<table border=\"1\" class=\"dataframe\">\n",
       "  <thead>\n",
       "    <tr style=\"text-align: right;\">\n",
       "      <th></th>\n",
       "      <th>game_id</th>\n",
       "      <th>game_name</th>\n",
       "      <th>status</th>\n",
       "      <th>Hourplayed</th>\n",
       "    </tr>\n",
       "  </thead>\n",
       "  <tbody>\n",
       "    <tr>\n",
       "      <th>0</th>\n",
       "      <td>151603712</td>\n",
       "      <td>The Elder Scrolls V Skyrim</td>\n",
       "      <td>play</td>\n",
       "      <td>273.0</td>\n",
       "    </tr>\n",
       "    <tr>\n",
       "      <th>2</th>\n",
       "      <td>151603712</td>\n",
       "      <td>Fallout 4</td>\n",
       "      <td>play</td>\n",
       "      <td>87.0</td>\n",
       "    </tr>\n",
       "    <tr>\n",
       "      <th>4</th>\n",
       "      <td>151603712</td>\n",
       "      <td>Spore</td>\n",
       "      <td>play</td>\n",
       "      <td>14.9</td>\n",
       "    </tr>\n",
       "    <tr>\n",
       "      <th>6</th>\n",
       "      <td>151603712</td>\n",
       "      <td>Fallout New Vegas</td>\n",
       "      <td>play</td>\n",
       "      <td>12.1</td>\n",
       "    </tr>\n",
       "    <tr>\n",
       "      <th>8</th>\n",
       "      <td>151603712</td>\n",
       "      <td>Left 4 Dead 2</td>\n",
       "      <td>play</td>\n",
       "      <td>8.9</td>\n",
       "    </tr>\n",
       "  </tbody>\n",
       "</table>\n",
       "</div>"
      ],
      "text/plain": [
       "     game_id                   game_name status  Hourplayed\n",
       "0  151603712  The Elder Scrolls V Skyrim   play       273.0\n",
       "2  151603712                   Fallout 4   play        87.0\n",
       "4  151603712                       Spore   play        14.9\n",
       "6  151603712           Fallout New Vegas   play        12.1\n",
       "8  151603712               Left 4 Dead 2   play         8.9"
      ]
     },
     "execution_count": 22,
     "metadata": {},
     "output_type": "execute_result"
    }
   ],
   "source": [
    "df.head()"
   ]
  },
  {
   "cell_type": "code",
   "execution_count": 23,
   "metadata": {},
   "outputs": [
    {
     "data": {
      "text/html": [
       "<div>\n",
       "<style scoped>\n",
       "    .dataframe tbody tr th:only-of-type {\n",
       "        vertical-align: middle;\n",
       "    }\n",
       "\n",
       "    .dataframe tbody tr th {\n",
       "        vertical-align: top;\n",
       "    }\n",
       "\n",
       "    .dataframe thead th {\n",
       "        text-align: right;\n",
       "    }\n",
       "</style>\n",
       "<table border=\"1\" class=\"dataframe\">\n",
       "  <thead>\n",
       "    <tr style=\"text-align: right;\">\n",
       "      <th></th>\n",
       "      <th>game_id</th>\n",
       "      <th>game_name</th>\n",
       "      <th>status</th>\n",
       "      <th>Hourplayed</th>\n",
       "    </tr>\n",
       "  </thead>\n",
       "  <tbody>\n",
       "    <tr>\n",
       "      <th>0</th>\n",
       "      <td>151603712</td>\n",
       "      <td>The Elder Scrolls V Skyrim</td>\n",
       "      <td>play</td>\n",
       "      <td>273.0</td>\n",
       "    </tr>\n",
       "    <tr>\n",
       "      <th>72</th>\n",
       "      <td>59945701</td>\n",
       "      <td>The Elder Scrolls V Skyrim</td>\n",
       "      <td>play</td>\n",
       "      <td>58.0</td>\n",
       "    </tr>\n",
       "    <tr>\n",
       "      <th>1065</th>\n",
       "      <td>92107940</td>\n",
       "      <td>The Elder Scrolls V Skyrim</td>\n",
       "      <td>play</td>\n",
       "      <td>110.0</td>\n",
       "    </tr>\n",
       "    <tr>\n",
       "      <th>1167</th>\n",
       "      <td>250006052</td>\n",
       "      <td>The Elder Scrolls V Skyrim</td>\n",
       "      <td>play</td>\n",
       "      <td>465.0</td>\n",
       "    </tr>\n",
       "    <tr>\n",
       "      <th>1387</th>\n",
       "      <td>11373749</td>\n",
       "      <td>The Elder Scrolls V Skyrim</td>\n",
       "      <td>play</td>\n",
       "      <td>220.0</td>\n",
       "    </tr>\n",
       "    <tr>\n",
       "      <th>...</th>\n",
       "      <td>...</td>\n",
       "      <td>...</td>\n",
       "      <td>...</td>\n",
       "      <td>...</td>\n",
       "    </tr>\n",
       "    <tr>\n",
       "      <th>197129</th>\n",
       "      <td>126294907</td>\n",
       "      <td>The Elder Scrolls V Skyrim</td>\n",
       "      <td>play</td>\n",
       "      <td>190.0</td>\n",
       "    </tr>\n",
       "    <tr>\n",
       "      <th>197518</th>\n",
       "      <td>42657809</td>\n",
       "      <td>The Elder Scrolls V Skyrim</td>\n",
       "      <td>play</td>\n",
       "      <td>148.0</td>\n",
       "    </tr>\n",
       "    <tr>\n",
       "      <th>198271</th>\n",
       "      <td>87201181</td>\n",
       "      <td>The Elder Scrolls V Skyrim</td>\n",
       "      <td>play</td>\n",
       "      <td>257.0</td>\n",
       "    </tr>\n",
       "    <tr>\n",
       "      <th>198534</th>\n",
       "      <td>116564064</td>\n",
       "      <td>The Elder Scrolls V Skyrim</td>\n",
       "      <td>play</td>\n",
       "      <td>8.2</td>\n",
       "    </tr>\n",
       "    <tr>\n",
       "      <th>199908</th>\n",
       "      <td>99096740</td>\n",
       "      <td>The Elder Scrolls V Skyrim</td>\n",
       "      <td>play</td>\n",
       "      <td>45.0</td>\n",
       "    </tr>\n",
       "  </tbody>\n",
       "</table>\n",
       "<p>614 rows × 4 columns</p>\n",
       "</div>"
      ],
      "text/plain": [
       "          game_id                   game_name status  Hourplayed\n",
       "0       151603712  The Elder Scrolls V Skyrim   play       273.0\n",
       "72       59945701  The Elder Scrolls V Skyrim   play        58.0\n",
       "1065     92107940  The Elder Scrolls V Skyrim   play       110.0\n",
       "1167    250006052  The Elder Scrolls V Skyrim   play       465.0\n",
       "1387     11373749  The Elder Scrolls V Skyrim   play       220.0\n",
       "...           ...                         ...    ...         ...\n",
       "197129  126294907  The Elder Scrolls V Skyrim   play       190.0\n",
       "197518   42657809  The Elder Scrolls V Skyrim   play       148.0\n",
       "198271   87201181  The Elder Scrolls V Skyrim   play       257.0\n",
       "198534  116564064  The Elder Scrolls V Skyrim   play         8.2\n",
       "199908   99096740  The Elder Scrolls V Skyrim   play        45.0\n",
       "\n",
       "[614 rows x 4 columns]"
      ]
     },
     "execution_count": 23,
     "metadata": {},
     "output_type": "execute_result"
    }
   ],
   "source": [
    "df[df['game_name']== 'The Elder Scrolls V Skyrim']"
   ]
  },
  {
   "cell_type": "code",
   "execution_count": 24,
   "metadata": {},
   "outputs": [
    {
     "data": {
      "text/html": [
       "<div>\n",
       "<style scoped>\n",
       "    .dataframe tbody tr th:only-of-type {\n",
       "        vertical-align: middle;\n",
       "    }\n",
       "\n",
       "    .dataframe tbody tr th {\n",
       "        vertical-align: top;\n",
       "    }\n",
       "\n",
       "    .dataframe thead th {\n",
       "        text-align: right;\n",
       "    }\n",
       "</style>\n",
       "<table border=\"1\" class=\"dataframe\">\n",
       "  <thead>\n",
       "    <tr style=\"text-align: right;\">\n",
       "      <th></th>\n",
       "      <th>game_id</th>\n",
       "      <th>status</th>\n",
       "      <th>Hourplayed</th>\n",
       "    </tr>\n",
       "  </thead>\n",
       "  <tbody>\n",
       "    <tr>\n",
       "      <th>0</th>\n",
       "      <td>614</td>\n",
       "      <td>614</td>\n",
       "      <td>614</td>\n",
       "    </tr>\n",
       "    <tr>\n",
       "      <th>2</th>\n",
       "      <td>161</td>\n",
       "      <td>161</td>\n",
       "      <td>161</td>\n",
       "    </tr>\n",
       "    <tr>\n",
       "      <th>4</th>\n",
       "      <td>45</td>\n",
       "      <td>45</td>\n",
       "      <td>45</td>\n",
       "    </tr>\n",
       "    <tr>\n",
       "      <th>6</th>\n",
       "      <td>235</td>\n",
       "      <td>235</td>\n",
       "      <td>235</td>\n",
       "    </tr>\n",
       "    <tr>\n",
       "      <th>8</th>\n",
       "      <td>665</td>\n",
       "      <td>665</td>\n",
       "      <td>665</td>\n",
       "    </tr>\n",
       "    <tr>\n",
       "      <th>...</th>\n",
       "      <td>...</td>\n",
       "      <td>...</td>\n",
       "      <td>...</td>\n",
       "    </tr>\n",
       "    <tr>\n",
       "      <th>199984</th>\n",
       "      <td>18</td>\n",
       "      <td>18</td>\n",
       "      <td>18</td>\n",
       "    </tr>\n",
       "    <tr>\n",
       "      <th>199986</th>\n",
       "      <td>47</td>\n",
       "      <td>47</td>\n",
       "      <td>47</td>\n",
       "    </tr>\n",
       "    <tr>\n",
       "      <th>199988</th>\n",
       "      <td>45</td>\n",
       "      <td>45</td>\n",
       "      <td>45</td>\n",
       "    </tr>\n",
       "    <tr>\n",
       "      <th>199990</th>\n",
       "      <td>10</td>\n",
       "      <td>10</td>\n",
       "      <td>10</td>\n",
       "    </tr>\n",
       "    <tr>\n",
       "      <th>199992</th>\n",
       "      <td>42</td>\n",
       "      <td>42</td>\n",
       "      <td>42</td>\n",
       "    </tr>\n",
       "  </tbody>\n",
       "</table>\n",
       "<p>45535 rows × 3 columns</p>\n",
       "</div>"
      ],
      "text/plain": [
       "        game_id  status  Hourplayed\n",
       "0           614     614         614\n",
       "2           161     161         161\n",
       "4            45      45          45\n",
       "6           235     235         235\n",
       "8           665     665         665\n",
       "...         ...     ...         ...\n",
       "199984       18      18          18\n",
       "199986       47      47          47\n",
       "199988       45      45          45\n",
       "199990       10      10          10\n",
       "199992       42      42          42\n",
       "\n",
       "[45535 rows x 3 columns]"
      ]
     },
     "execution_count": 24,
     "metadata": {},
     "output_type": "execute_result"
    }
   ],
   "source": [
    "df.groupby('game_name').transform(len)"
   ]
  },
  {
   "cell_type": "code",
   "execution_count": 25,
   "metadata": {
    "execution": {
     "iopub.execute_input": "2022-08-10T06:53:43.338470Z",
     "iopub.status.busy": "2022-08-10T06:53:43.337564Z",
     "iopub.status.idle": "2022-08-10T06:53:43.779390Z",
     "shell.execute_reply": "2022-08-10T06:53:43.778112Z",
     "shell.execute_reply.started": "2022-08-10T06:53:43.338429Z"
    }
   },
   "outputs": [],
   "source": [
    "df = df[df.groupby('game_name').game_id.transform(len)>=20] #getting the games which occur more than 20 times"
   ]
  },
  {
   "cell_type": "code",
   "execution_count": 26,
   "metadata": {
    "execution": {
     "iopub.execute_input": "2022-08-10T06:53:43.781365Z",
     "iopub.status.busy": "2022-08-10T06:53:43.780972Z",
     "iopub.status.idle": "2022-08-10T06:53:43.792787Z",
     "shell.execute_reply": "2022-08-10T06:53:43.791362Z",
     "shell.execute_reply.started": "2022-08-10T06:53:43.781322Z"
    }
   },
   "outputs": [
    {
     "data": {
      "text/plain": [
       "431"
      ]
     },
     "execution_count": 26,
     "metadata": {},
     "output_type": "execute_result"
    }
   ],
   "source": [
    "df['game_name'].nunique()"
   ]
  },
  {
   "cell_type": "code",
   "execution_count": 27,
   "metadata": {
    "execution": {
     "iopub.execute_input": "2022-08-10T06:53:43.795381Z",
     "iopub.status.busy": "2022-08-10T06:53:43.794258Z",
     "iopub.status.idle": "2022-08-10T06:53:43.824820Z",
     "shell.execute_reply": "2022-08-10T06:53:43.823518Z",
     "shell.execute_reply.started": "2022-08-10T06:53:43.795335Z"
    }
   },
   "outputs": [],
   "source": [
    "df['game_id'] = df['game_id'].astype(str)"
   ]
  },
  {
   "cell_type": "code",
   "execution_count": 28,
   "metadata": {
    "execution": {
     "iopub.execute_input": "2022-08-10T06:53:43.826842Z",
     "iopub.status.busy": "2022-08-10T06:53:43.826406Z",
     "iopub.status.idle": "2022-08-10T06:53:43.845354Z",
     "shell.execute_reply": "2022-08-10T06:53:43.843744Z",
     "shell.execute_reply.started": "2022-08-10T06:53:43.826794Z"
    }
   },
   "outputs": [],
   "source": [
    "average = df.groupby(['game_name'],as_index = False).Hourplayed.mean()"
   ]
  },
  {
   "cell_type": "code",
   "execution_count": 29,
   "metadata": {
    "execution": {
     "iopub.execute_input": "2022-08-10T06:53:43.853294Z",
     "iopub.status.busy": "2022-08-10T06:53:43.852690Z",
     "iopub.status.idle": "2022-08-10T06:53:43.860524Z",
     "shell.execute_reply": "2022-08-10T06:53:43.859249Z",
     "shell.execute_reply.started": "2022-08-10T06:53:43.853258Z"
    }
   },
   "outputs": [],
   "source": [
    "average['avg_hourplayed'] = average['Hourplayed']\n",
    "average.drop(columns ='Hourplayed',inplace = True )"
   ]
  },
  {
   "cell_type": "code",
   "execution_count": 30,
   "metadata": {
    "execution": {
     "iopub.execute_input": "2022-08-10T06:53:43.862898Z",
     "iopub.status.busy": "2022-08-10T06:53:43.862246Z",
     "iopub.status.idle": "2022-08-10T06:53:43.877383Z",
     "shell.execute_reply": "2022-08-10T06:53:43.876315Z",
     "shell.execute_reply.started": "2022-08-10T06:53:43.862861Z"
    }
   },
   "outputs": [
    {
     "data": {
      "text/html": [
       "<div>\n",
       "<style scoped>\n",
       "    .dataframe tbody tr th:only-of-type {\n",
       "        vertical-align: middle;\n",
       "    }\n",
       "\n",
       "    .dataframe tbody tr th {\n",
       "        vertical-align: top;\n",
       "    }\n",
       "\n",
       "    .dataframe thead th {\n",
       "        text-align: right;\n",
       "    }\n",
       "</style>\n",
       "<table border=\"1\" class=\"dataframe\">\n",
       "  <thead>\n",
       "    <tr style=\"text-align: right;\">\n",
       "      <th></th>\n",
       "      <th>game_name</th>\n",
       "      <th>avg_hourplayed</th>\n",
       "    </tr>\n",
       "  </thead>\n",
       "  <tbody>\n",
       "    <tr>\n",
       "      <th>0</th>\n",
       "      <td>7 Days to Die</td>\n",
       "      <td>50.777500</td>\n",
       "    </tr>\n",
       "    <tr>\n",
       "      <th>1</th>\n",
       "      <td>APB Reloaded</td>\n",
       "      <td>113.377778</td>\n",
       "    </tr>\n",
       "    <tr>\n",
       "      <th>2</th>\n",
       "      <td>ARK Survival Evolved</td>\n",
       "      <td>105.982812</td>\n",
       "    </tr>\n",
       "    <tr>\n",
       "      <th>3</th>\n",
       "      <td>Ace of Spades</td>\n",
       "      <td>10.971739</td>\n",
       "    </tr>\n",
       "    <tr>\n",
       "      <th>4</th>\n",
       "      <td>AdVenture Capitalist</td>\n",
       "      <td>67.760674</td>\n",
       "    </tr>\n",
       "  </tbody>\n",
       "</table>\n",
       "</div>"
      ],
      "text/plain": [
       "              game_name  avg_hourplayed\n",
       "0         7 Days to Die       50.777500\n",
       "1          APB Reloaded      113.377778\n",
       "2  ARK Survival Evolved      105.982812\n",
       "3         Ace of Spades       10.971739\n",
       "4  AdVenture Capitalist       67.760674"
      ]
     },
     "execution_count": 30,
     "metadata": {},
     "output_type": "execute_result"
    }
   ],
   "source": [
    "average.head()"
   ]
  },
  {
   "cell_type": "code",
   "execution_count": 31,
   "metadata": {
    "execution": {
     "iopub.execute_input": "2022-08-10T06:53:43.880013Z",
     "iopub.status.busy": "2022-08-10T06:53:43.878800Z",
     "iopub.status.idle": "2022-08-10T06:53:43.900608Z",
     "shell.execute_reply": "2022-08-10T06:53:43.899383Z",
     "shell.execute_reply.started": "2022-08-10T06:53:43.879963Z"
    }
   },
   "outputs": [],
   "source": [
    "df = df.merge(average,on = 'game_name')"
   ]
  },
  {
   "cell_type": "code",
   "execution_count": 32,
   "metadata": {
    "execution": {
     "iopub.execute_input": "2022-08-10T06:53:43.902589Z",
     "iopub.status.busy": "2022-08-10T06:53:43.902203Z",
     "iopub.status.idle": "2022-08-10T06:53:43.917675Z",
     "shell.execute_reply": "2022-08-10T06:53:43.916612Z",
     "shell.execute_reply.started": "2022-08-10T06:53:43.902554Z"
    }
   },
   "outputs": [],
   "source": [
    "condition = [\n",
    "    df['Hourplayed']>= (0.8*df['avg_hourplayed']),\n",
    "   (df['Hourplayed']>=0.6*df['avg_hourplayed'])&(df['Hourplayed']<0.8*df['avg_hourplayed']),\n",
    "   (df['Hourplayed']>=0.4*df['avg_hourplayed'])&(df['Hourplayed']<0.6*df['avg_hourplayed']),\n",
    "   (df['Hourplayed']>=0.2*df['avg_hourplayed'])&(df['Hourplayed']<0.4*df['avg_hourplayed']),\n",
    "    df['Hourplayed']>=0\n",
    "    \n",
    "]\n",
    "values = [5,4,3,2,1]\n",
    "df['rating'] = np.select(condition,values)\n"
   ]
  },
  {
   "cell_type": "code",
   "execution_count": 33,
   "metadata": {
    "execution": {
     "iopub.execute_input": "2022-08-10T06:53:43.919940Z",
     "iopub.status.busy": "2022-08-10T06:53:43.919319Z",
     "iopub.status.idle": "2022-08-10T06:53:43.936883Z",
     "shell.execute_reply": "2022-08-10T06:53:43.935230Z",
     "shell.execute_reply.started": "2022-08-10T06:53:43.919902Z"
    }
   },
   "outputs": [
    {
     "data": {
      "text/html": [
       "<div>\n",
       "<style scoped>\n",
       "    .dataframe tbody tr th:only-of-type {\n",
       "        vertical-align: middle;\n",
       "    }\n",
       "\n",
       "    .dataframe tbody tr th {\n",
       "        vertical-align: top;\n",
       "    }\n",
       "\n",
       "    .dataframe thead th {\n",
       "        text-align: right;\n",
       "    }\n",
       "</style>\n",
       "<table border=\"1\" class=\"dataframe\">\n",
       "  <thead>\n",
       "    <tr style=\"text-align: right;\">\n",
       "      <th></th>\n",
       "      <th>game_id</th>\n",
       "      <th>game_name</th>\n",
       "      <th>status</th>\n",
       "      <th>Hourplayed</th>\n",
       "      <th>avg_hourplayed</th>\n",
       "      <th>rating</th>\n",
       "    </tr>\n",
       "  </thead>\n",
       "  <tbody>\n",
       "    <tr>\n",
       "      <th>0</th>\n",
       "      <td>151603712</td>\n",
       "      <td>The Elder Scrolls V Skyrim</td>\n",
       "      <td>play</td>\n",
       "      <td>273.0</td>\n",
       "      <td>115.351792</td>\n",
       "      <td>5</td>\n",
       "    </tr>\n",
       "    <tr>\n",
       "      <th>1</th>\n",
       "      <td>59945701</td>\n",
       "      <td>The Elder Scrolls V Skyrim</td>\n",
       "      <td>play</td>\n",
       "      <td>58.0</td>\n",
       "      <td>115.351792</td>\n",
       "      <td>3</td>\n",
       "    </tr>\n",
       "    <tr>\n",
       "      <th>2</th>\n",
       "      <td>92107940</td>\n",
       "      <td>The Elder Scrolls V Skyrim</td>\n",
       "      <td>play</td>\n",
       "      <td>110.0</td>\n",
       "      <td>115.351792</td>\n",
       "      <td>5</td>\n",
       "    </tr>\n",
       "    <tr>\n",
       "      <th>3</th>\n",
       "      <td>250006052</td>\n",
       "      <td>The Elder Scrolls V Skyrim</td>\n",
       "      <td>play</td>\n",
       "      <td>465.0</td>\n",
       "      <td>115.351792</td>\n",
       "      <td>5</td>\n",
       "    </tr>\n",
       "    <tr>\n",
       "      <th>4</th>\n",
       "      <td>11373749</td>\n",
       "      <td>The Elder Scrolls V Skyrim</td>\n",
       "      <td>play</td>\n",
       "      <td>220.0</td>\n",
       "      <td>115.351792</td>\n",
       "      <td>5</td>\n",
       "    </tr>\n",
       "  </tbody>\n",
       "</table>\n",
       "</div>"
      ],
      "text/plain": [
       "     game_id                   game_name status  Hourplayed  avg_hourplayed  \\\n",
       "0  151603712  The Elder Scrolls V Skyrim   play       273.0      115.351792   \n",
       "1   59945701  The Elder Scrolls V Skyrim   play        58.0      115.351792   \n",
       "2   92107940  The Elder Scrolls V Skyrim   play       110.0      115.351792   \n",
       "3  250006052  The Elder Scrolls V Skyrim   play       465.0      115.351792   \n",
       "4   11373749  The Elder Scrolls V Skyrim   play       220.0      115.351792   \n",
       "\n",
       "   rating  \n",
       "0       5  \n",
       "1       3  \n",
       "2       5  \n",
       "3       5  \n",
       "4       5  "
      ]
     },
     "execution_count": 33,
     "metadata": {},
     "output_type": "execute_result"
    }
   ],
   "source": [
    "df.head()"
   ]
  },
  {
   "cell_type": "code",
   "execution_count": 34,
   "metadata": {
    "execution": {
     "iopub.execute_input": "2022-08-10T06:53:43.939337Z",
     "iopub.status.busy": "2022-08-10T06:53:43.938730Z",
     "iopub.status.idle": "2022-08-10T06:53:43.946408Z",
     "shell.execute_reply": "2022-08-10T06:53:43.945076Z",
     "shell.execute_reply.started": "2022-08-10T06:53:43.939301Z"
    }
   },
   "outputs": [
    {
     "data": {
      "text/plain": [
       "Index(['game_id', 'game_name', 'status', 'Hourplayed', 'avg_hourplayed',\n",
       "       'rating'],\n",
       "      dtype='object')"
      ]
     },
     "execution_count": 34,
     "metadata": {},
     "output_type": "execute_result"
    }
   ],
   "source": [
    "df.columns"
   ]
  },
  {
   "cell_type": "code",
   "execution_count": 35,
   "metadata": {
    "execution": {
     "iopub.execute_input": "2022-08-10T06:53:43.948719Z",
     "iopub.status.busy": "2022-08-10T06:53:43.948200Z",
     "iopub.status.idle": "2022-08-10T06:53:43.963397Z",
     "shell.execute_reply": "2022-08-10T06:53:43.962196Z",
     "shell.execute_reply.started": "2022-08-10T06:53:43.948672Z"
    }
   },
   "outputs": [],
   "source": [
    "# keeping all important columns (game_id,game_name,rating ) and drop all other columns\n",
    "df.drop(columns = [ 'status', 'Hourplayed', 'avg_hourplayed'],inplace =True )"
   ]
  },
  {
   "cell_type": "code",
   "execution_count": 36,
   "metadata": {
    "execution": {
     "iopub.execute_input": "2022-08-10T06:53:43.965904Z",
     "iopub.status.busy": "2022-08-10T06:53:43.965143Z",
     "iopub.status.idle": "2022-08-10T06:53:43.984355Z",
     "shell.execute_reply": "2022-08-10T06:53:43.983095Z",
     "shell.execute_reply.started": "2022-08-10T06:53:43.965855Z"
    },
    "scrolled": true
   },
   "outputs": [
    {
     "data": {
      "text/html": [
       "<div>\n",
       "<style scoped>\n",
       "    .dataframe tbody tr th:only-of-type {\n",
       "        vertical-align: middle;\n",
       "    }\n",
       "\n",
       "    .dataframe tbody tr th {\n",
       "        vertical-align: top;\n",
       "    }\n",
       "\n",
       "    .dataframe thead th {\n",
       "        text-align: right;\n",
       "    }\n",
       "</style>\n",
       "<table border=\"1\" class=\"dataframe\">\n",
       "  <thead>\n",
       "    <tr style=\"text-align: right;\">\n",
       "      <th></th>\n",
       "      <th>game_id</th>\n",
       "      <th>game_name</th>\n",
       "      <th>rating</th>\n",
       "    </tr>\n",
       "  </thead>\n",
       "  <tbody>\n",
       "    <tr>\n",
       "      <th>0</th>\n",
       "      <td>151603712</td>\n",
       "      <td>The Elder Scrolls V Skyrim</td>\n",
       "      <td>5</td>\n",
       "    </tr>\n",
       "    <tr>\n",
       "      <th>1</th>\n",
       "      <td>59945701</td>\n",
       "      <td>The Elder Scrolls V Skyrim</td>\n",
       "      <td>3</td>\n",
       "    </tr>\n",
       "    <tr>\n",
       "      <th>2</th>\n",
       "      <td>92107940</td>\n",
       "      <td>The Elder Scrolls V Skyrim</td>\n",
       "      <td>5</td>\n",
       "    </tr>\n",
       "    <tr>\n",
       "      <th>3</th>\n",
       "      <td>250006052</td>\n",
       "      <td>The Elder Scrolls V Skyrim</td>\n",
       "      <td>5</td>\n",
       "    </tr>\n",
       "    <tr>\n",
       "      <th>4</th>\n",
       "      <td>11373749</td>\n",
       "      <td>The Elder Scrolls V Skyrim</td>\n",
       "      <td>5</td>\n",
       "    </tr>\n",
       "  </tbody>\n",
       "</table>\n",
       "</div>"
      ],
      "text/plain": [
       "     game_id                   game_name  rating\n",
       "0  151603712  The Elder Scrolls V Skyrim       5\n",
       "1   59945701  The Elder Scrolls V Skyrim       3\n",
       "2   92107940  The Elder Scrolls V Skyrim       5\n",
       "3  250006052  The Elder Scrolls V Skyrim       5\n",
       "4   11373749  The Elder Scrolls V Skyrim       5"
      ]
     },
     "execution_count": 36,
     "metadata": {},
     "output_type": "execute_result"
    }
   ],
   "source": [
    "df.head()"
   ]
  },
  {
   "cell_type": "markdown",
   "metadata": {},
   "source": [
    "# Memory based Collaborative Filtering"
   ]
  },
  {
   "attachments": {
    "image.png": {
     "image/png": "[encoded data removed]"
    }
   },
   "cell_type": "markdown",
   "metadata": {},
   "source": [
    "![image.png](attachment:image.png)"
   ]
  },
  {
   "cell_type": "code",
   "execution_count": 37,
   "metadata": {
    "execution": {
     "iopub.execute_input": "2022-08-10T06:53:43.988670Z",
     "iopub.status.busy": "2022-08-10T06:53:43.987739Z",
     "iopub.status.idle": "2022-08-10T06:53:44.121688Z",
     "shell.execute_reply": "2022-08-10T06:53:44.120479Z",
     "shell.execute_reply.started": "2022-08-10T06:53:43.988611Z"
    }
   },
   "outputs": [],
   "source": [
    "# importing pairwise_distance , cosine ,correlation\n",
    "from sklearn.metrics.pairwise import pairwise_distances,cosine_similarity\n",
    "from scipy.spatial.distance import cosine,correlation"
   ]
  },
  {
   "cell_type": "code",
   "execution_count": 38,
   "metadata": {
    "execution": {
     "iopub.execute_input": "2022-08-10T06:53:44.123305Z",
     "iopub.status.busy": "2022-08-10T06:53:44.122786Z",
     "iopub.status.idle": "2022-08-10T06:53:44.271193Z",
     "shell.execute_reply": "2022-08-10T06:53:44.270000Z",
     "shell.execute_reply.started": "2022-08-10T06:53:44.123270Z"
    }
   },
   "outputs": [],
   "source": [
    "pv = df.pivot_table(index=['game_id'],columns=['game_name'],values = 'rating')"
   ]
  },
  {
   "cell_type": "code",
   "execution_count": 39,
   "metadata": {},
   "outputs": [
    {
     "data": {
      "text/html": [
       "<div>\n",
       "<style scoped>\n",
       "    .dataframe tbody tr th:only-of-type {\n",
       "        vertical-align: middle;\n",
       "    }\n",
       "\n",
       "    .dataframe tbody tr th {\n",
       "        vertical-align: top;\n",
       "    }\n",
       "\n",
       "    .dataframe thead th {\n",
       "        text-align: right;\n",
       "    }\n",
       "</style>\n",
       "<table border=\"1\" class=\"dataframe\">\n",
       "  <thead>\n",
       "    <tr style=\"text-align: right;\">\n",
       "      <th>game_name</th>\n",
       "      <th>7 Days to Die</th>\n",
       "      <th>APB Reloaded</th>\n",
       "      <th>ARK Survival Evolved</th>\n",
       "      <th>Ace of Spades</th>\n",
       "      <th>AdVenture Capitalist</th>\n",
       "      <th>Aftermath</th>\n",
       "      <th>Age of Chivalry</th>\n",
       "      <th>Age of Empires II HD Edition</th>\n",
       "      <th>Age of Empires III Complete Collection</th>\n",
       "      <th>Age of Mythology Extended Edition</th>\n",
       "      <th>...</th>\n",
       "      <th>Warhammer 40,000 Dawn of War II - Chaos Rising</th>\n",
       "      <th>Warhammer 40,000 Space Marine</th>\n",
       "      <th>Wasteland 2</th>\n",
       "      <th>Watch_Dogs</th>\n",
       "      <th>Wolfenstein The New Order</th>\n",
       "      <th>Worms Reloaded</th>\n",
       "      <th>Worms Revolution</th>\n",
       "      <th>XCOM Enemy Unknown</th>\n",
       "      <th>Zombie Panic Source</th>\n",
       "      <th>theHunter</th>\n",
       "    </tr>\n",
       "    <tr>\n",
       "      <th>game_id</th>\n",
       "      <th></th>\n",
       "      <th></th>\n",
       "      <th></th>\n",
       "      <th></th>\n",
       "      <th></th>\n",
       "      <th></th>\n",
       "      <th></th>\n",
       "      <th></th>\n",
       "      <th></th>\n",
       "      <th></th>\n",
       "      <th></th>\n",
       "      <th></th>\n",
       "      <th></th>\n",
       "      <th></th>\n",
       "      <th></th>\n",
       "      <th></th>\n",
       "      <th></th>\n",
       "      <th></th>\n",
       "      <th></th>\n",
       "      <th></th>\n",
       "      <th></th>\n",
       "    </tr>\n",
       "  </thead>\n",
       "  <tbody>\n",
       "    <tr>\n",
       "      <th>100053304</th>\n",
       "      <td>NaN</td>\n",
       "      <td>NaN</td>\n",
       "      <td>NaN</td>\n",
       "      <td>NaN</td>\n",
       "      <td>NaN</td>\n",
       "      <td>NaN</td>\n",
       "      <td>NaN</td>\n",
       "      <td>NaN</td>\n",
       "      <td>NaN</td>\n",
       "      <td>NaN</td>\n",
       "      <td>...</td>\n",
       "      <td>NaN</td>\n",
       "      <td>NaN</td>\n",
       "      <td>NaN</td>\n",
       "      <td>NaN</td>\n",
       "      <td>NaN</td>\n",
       "      <td>NaN</td>\n",
       "      <td>NaN</td>\n",
       "      <td>NaN</td>\n",
       "      <td>NaN</td>\n",
       "      <td>NaN</td>\n",
       "    </tr>\n",
       "    <tr>\n",
       "      <th>100057229</th>\n",
       "      <td>NaN</td>\n",
       "      <td>NaN</td>\n",
       "      <td>NaN</td>\n",
       "      <td>NaN</td>\n",
       "      <td>NaN</td>\n",
       "      <td>NaN</td>\n",
       "      <td>NaN</td>\n",
       "      <td>NaN</td>\n",
       "      <td>NaN</td>\n",
       "      <td>NaN</td>\n",
       "      <td>...</td>\n",
       "      <td>NaN</td>\n",
       "      <td>NaN</td>\n",
       "      <td>NaN</td>\n",
       "      <td>NaN</td>\n",
       "      <td>NaN</td>\n",
       "      <td>NaN</td>\n",
       "      <td>NaN</td>\n",
       "      <td>NaN</td>\n",
       "      <td>NaN</td>\n",
       "      <td>NaN</td>\n",
       "    </tr>\n",
       "    <tr>\n",
       "      <th>100070732</th>\n",
       "      <td>NaN</td>\n",
       "      <td>NaN</td>\n",
       "      <td>NaN</td>\n",
       "      <td>NaN</td>\n",
       "      <td>NaN</td>\n",
       "      <td>NaN</td>\n",
       "      <td>NaN</td>\n",
       "      <td>NaN</td>\n",
       "      <td>NaN</td>\n",
       "      <td>NaN</td>\n",
       "      <td>...</td>\n",
       "      <td>NaN</td>\n",
       "      <td>NaN</td>\n",
       "      <td>NaN</td>\n",
       "      <td>NaN</td>\n",
       "      <td>NaN</td>\n",
       "      <td>NaN</td>\n",
       "      <td>NaN</td>\n",
       "      <td>NaN</td>\n",
       "      <td>NaN</td>\n",
       "      <td>NaN</td>\n",
       "    </tr>\n",
       "    <tr>\n",
       "      <th>100096071</th>\n",
       "      <td>NaN</td>\n",
       "      <td>NaN</td>\n",
       "      <td>NaN</td>\n",
       "      <td>NaN</td>\n",
       "      <td>NaN</td>\n",
       "      <td>NaN</td>\n",
       "      <td>NaN</td>\n",
       "      <td>NaN</td>\n",
       "      <td>NaN</td>\n",
       "      <td>NaN</td>\n",
       "      <td>...</td>\n",
       "      <td>NaN</td>\n",
       "      <td>NaN</td>\n",
       "      <td>NaN</td>\n",
       "      <td>NaN</td>\n",
       "      <td>NaN</td>\n",
       "      <td>NaN</td>\n",
       "      <td>NaN</td>\n",
       "      <td>NaN</td>\n",
       "      <td>NaN</td>\n",
       "      <td>NaN</td>\n",
       "    </tr>\n",
       "    <tr>\n",
       "      <th>100168166</th>\n",
       "      <td>NaN</td>\n",
       "      <td>NaN</td>\n",
       "      <td>NaN</td>\n",
       "      <td>NaN</td>\n",
       "      <td>NaN</td>\n",
       "      <td>NaN</td>\n",
       "      <td>NaN</td>\n",
       "      <td>NaN</td>\n",
       "      <td>NaN</td>\n",
       "      <td>NaN</td>\n",
       "      <td>...</td>\n",
       "      <td>NaN</td>\n",
       "      <td>NaN</td>\n",
       "      <td>NaN</td>\n",
       "      <td>NaN</td>\n",
       "      <td>NaN</td>\n",
       "      <td>NaN</td>\n",
       "      <td>NaN</td>\n",
       "      <td>NaN</td>\n",
       "      <td>NaN</td>\n",
       "      <td>NaN</td>\n",
       "    </tr>\n",
       "  </tbody>\n",
       "</table>\n",
       "<p>5 rows × 431 columns</p>\n",
       "</div>"
      ],
      "text/plain": [
       "game_name  7 Days to Die  APB Reloaded  ARK Survival Evolved  Ace of Spades  \\\n",
       "game_id                                                                       \n",
       "100053304            NaN           NaN                   NaN            NaN   \n",
       "100057229            NaN           NaN                   NaN            NaN   \n",
       "100070732            NaN           NaN                   NaN            NaN   \n",
       "100096071            NaN           NaN                   NaN            NaN   \n",
       "100168166            NaN           NaN                   NaN            NaN   \n",
       "\n",
       "game_name  AdVenture Capitalist  Aftermath  Age of Chivalry  \\\n",
       "game_id                                                       \n",
       "100053304                   NaN        NaN              NaN   \n",
       "100057229                   NaN        NaN              NaN   \n",
       "100070732                   NaN        NaN              NaN   \n",
       "100096071                   NaN        NaN              NaN   \n",
       "100168166                   NaN        NaN              NaN   \n",
       "\n",
       "game_name  Age of Empires II HD Edition  \\\n",
       "game_id                                   \n",
       "100053304                           NaN   \n",
       "100057229                           NaN   \n",
       "100070732                           NaN   \n",
       "100096071                           NaN   \n",
       "100168166                           NaN   \n",
       "\n",
       "game_name  Age of Empires III Complete Collection  \\\n",
       "game_id                                             \n",
       "100053304                                     NaN   \n",
       "100057229                                     NaN   \n",
       "100070732                                     NaN   \n",
       "100096071                                     NaN   \n",
       "100168166                                     NaN   \n",
       "\n",
       "game_name  Age of Mythology Extended Edition  ...  \\\n",
       "game_id                                       ...   \n",
       "100053304                                NaN  ...   \n",
       "100057229                                NaN  ...   \n",
       "100070732                                NaN  ...   \n",
       "100096071                                NaN  ...   \n",
       "100168166                                NaN  ...   \n",
       "\n",
       "game_name  Warhammer 40,000 Dawn of War II - Chaos Rising  \\\n",
       "game_id                                                     \n",
       "100053304                                             NaN   \n",
       "100057229                                             NaN   \n",
       "100070732                                             NaN   \n",
       "100096071                                             NaN   \n",
       "100168166                                             NaN   \n",
       "\n",
       "game_name  Warhammer 40,000 Space Marine  Wasteland 2  Watch_Dogs  \\\n",
       "game_id                                                             \n",
       "100053304                            NaN          NaN         NaN   \n",
       "100057229                            NaN          NaN         NaN   \n",
       "100070732                            NaN          NaN         NaN   \n",
       "100096071                            NaN          NaN         NaN   \n",
       "100168166                            NaN          NaN         NaN   \n",
       "\n",
       "game_name  Wolfenstein The New Order  Worms Reloaded  Worms Revolution  \\\n",
       "game_id                                                                  \n",
       "100053304                        NaN             NaN               NaN   \n",
       "100057229                        NaN             NaN               NaN   \n",
       "100070732                        NaN             NaN               NaN   \n",
       "100096071                        NaN             NaN               NaN   \n",
       "100168166                        NaN             NaN               NaN   \n",
       "\n",
       "game_name  XCOM Enemy Unknown  Zombie Panic Source  theHunter  \n",
       "game_id                                                        \n",
       "100053304                 NaN                  NaN        NaN  \n",
       "100057229                 NaN                  NaN        NaN  \n",
       "100070732                 NaN                  NaN        NaN  \n",
       "100096071                 NaN                  NaN        NaN  \n",
       "100168166                 NaN                  NaN        NaN  \n",
       "\n",
       "[5 rows x 431 columns]"
      ]
     },
     "execution_count": 39,
     "metadata": {},
     "output_type": "execute_result"
    }
   ],
   "source": [
    "pv.head()"
   ]
  },
  {
   "cell_type": "code",
   "execution_count": 40,
   "metadata": {
    "execution": {
     "iopub.execute_input": "2022-08-10T06:53:44.273094Z",
     "iopub.status.busy": "2022-08-10T06:53:44.272722Z",
     "iopub.status.idle": "2022-08-10T06:53:49.762811Z",
     "shell.execute_reply": "2022-08-10T06:53:49.761506Z",
     "shell.execute_reply.started": "2022-08-10T06:53:44.273061Z"
    }
   },
   "outputs": [],
   "source": [
    "pv = pv.apply(lambda x: (x-np.mean(x))/(np.max(x)-np.min(x)),axis=1) #min max normalization"
   ]
  },
  {
   "cell_type": "code",
   "execution_count": 41,
   "metadata": {
    "execution": {
     "iopub.execute_input": "2022-08-10T06:53:49.764814Z",
     "iopub.status.busy": "2022-08-10T06:53:49.764343Z",
     "iopub.status.idle": "2022-08-10T06:53:49.816953Z",
     "shell.execute_reply": "2022-08-10T06:53:49.815665Z",
     "shell.execute_reply.started": "2022-08-10T06:53:49.764779Z"
    }
   },
   "outputs": [],
   "source": [
    "pv = pv.fillna(0)\n",
    "pv = pv.T\n",
    "pv = pv.loc[:,(pv != 0).any(axis=0)] #filtering out the users who gave no ratings to any game"
   ]
  },
  {
   "cell_type": "code",
   "execution_count": 42,
   "metadata": {
    "execution": {
     "iopub.execute_input": "2022-08-10T06:53:49.818897Z",
     "iopub.status.busy": "2022-08-10T06:53:49.818524Z",
     "iopub.status.idle": "2022-08-10T06:53:49.852167Z",
     "shell.execute_reply": "2022-08-10T06:53:49.850985Z",
     "shell.execute_reply.started": "2022-08-10T06:53:49.818859Z"
    }
   },
   "outputs": [
    {
     "data": {
      "text/html": [
       "<div>\n",
       "<style scoped>\n",
       "    .dataframe tbody tr th:only-of-type {\n",
       "        vertical-align: middle;\n",
       "    }\n",
       "\n",
       "    .dataframe tbody tr th {\n",
       "        vertical-align: top;\n",
       "    }\n",
       "\n",
       "    .dataframe thead th {\n",
       "        text-align: right;\n",
       "    }\n",
       "</style>\n",
       "<table border=\"1\" class=\"dataframe\">\n",
       "  <thead>\n",
       "    <tr style=\"text-align: right;\">\n",
       "      <th>game_id</th>\n",
       "      <th>100057229</th>\n",
       "      <th>100096071</th>\n",
       "      <th>100311267</th>\n",
       "      <th>100322840</th>\n",
       "      <th>100351493</th>\n",
       "      <th>100359523</th>\n",
       "      <th>100431715</th>\n",
       "      <th>100444456</th>\n",
       "      <th>100519466</th>\n",
       "      <th>100630947</th>\n",
       "      <th>...</th>\n",
       "      <th>994489</th>\n",
       "      <th>9946133</th>\n",
       "      <th>99484728</th>\n",
       "      <th>99640715</th>\n",
       "      <th>99704390</th>\n",
       "      <th>99711581</th>\n",
       "      <th>99713453</th>\n",
       "      <th>99723205</th>\n",
       "      <th>99766416</th>\n",
       "      <th>99802512</th>\n",
       "    </tr>\n",
       "    <tr>\n",
       "      <th>game_name</th>\n",
       "      <th></th>\n",
       "      <th></th>\n",
       "      <th></th>\n",
       "      <th></th>\n",
       "      <th></th>\n",
       "      <th></th>\n",
       "      <th></th>\n",
       "      <th></th>\n",
       "      <th></th>\n",
       "      <th></th>\n",
       "      <th></th>\n",
       "      <th></th>\n",
       "      <th></th>\n",
       "      <th></th>\n",
       "      <th></th>\n",
       "      <th></th>\n",
       "      <th></th>\n",
       "      <th></th>\n",
       "      <th></th>\n",
       "      <th></th>\n",
       "      <th></th>\n",
       "    </tr>\n",
       "  </thead>\n",
       "  <tbody>\n",
       "    <tr>\n",
       "      <th>7 Days to Die</th>\n",
       "      <td>0.0</td>\n",
       "      <td>0.0</td>\n",
       "      <td>0.0</td>\n",
       "      <td>0.0</td>\n",
       "      <td>0.0</td>\n",
       "      <td>0.0</td>\n",
       "      <td>0.0</td>\n",
       "      <td>0.0</td>\n",
       "      <td>0.00</td>\n",
       "      <td>0.0</td>\n",
       "      <td>...</td>\n",
       "      <td>0.0</td>\n",
       "      <td>0.0</td>\n",
       "      <td>0.0</td>\n",
       "      <td>0.0</td>\n",
       "      <td>0.000</td>\n",
       "      <td>0.000000</td>\n",
       "      <td>0.0</td>\n",
       "      <td>0.0</td>\n",
       "      <td>0.0</td>\n",
       "      <td>0.0</td>\n",
       "    </tr>\n",
       "    <tr>\n",
       "      <th>APB Reloaded</th>\n",
       "      <td>0.0</td>\n",
       "      <td>0.0</td>\n",
       "      <td>0.0</td>\n",
       "      <td>0.0</td>\n",
       "      <td>0.0</td>\n",
       "      <td>0.0</td>\n",
       "      <td>0.0</td>\n",
       "      <td>0.0</td>\n",
       "      <td>0.00</td>\n",
       "      <td>0.0</td>\n",
       "      <td>...</td>\n",
       "      <td>0.0</td>\n",
       "      <td>0.0</td>\n",
       "      <td>0.0</td>\n",
       "      <td>0.0</td>\n",
       "      <td>-0.475</td>\n",
       "      <td>-0.166667</td>\n",
       "      <td>0.0</td>\n",
       "      <td>0.0</td>\n",
       "      <td>0.0</td>\n",
       "      <td>0.0</td>\n",
       "    </tr>\n",
       "    <tr>\n",
       "      <th>ARK Survival Evolved</th>\n",
       "      <td>0.0</td>\n",
       "      <td>0.0</td>\n",
       "      <td>0.0</td>\n",
       "      <td>0.0</td>\n",
       "      <td>0.0</td>\n",
       "      <td>0.0</td>\n",
       "      <td>0.0</td>\n",
       "      <td>0.0</td>\n",
       "      <td>0.43</td>\n",
       "      <td>0.0</td>\n",
       "      <td>...</td>\n",
       "      <td>0.0</td>\n",
       "      <td>0.0</td>\n",
       "      <td>0.0</td>\n",
       "      <td>0.0</td>\n",
       "      <td>0.000</td>\n",
       "      <td>0.000000</td>\n",
       "      <td>0.0</td>\n",
       "      <td>0.0</td>\n",
       "      <td>0.0</td>\n",
       "      <td>0.0</td>\n",
       "    </tr>\n",
       "    <tr>\n",
       "      <th>Ace of Spades</th>\n",
       "      <td>0.0</td>\n",
       "      <td>0.0</td>\n",
       "      <td>0.0</td>\n",
       "      <td>0.0</td>\n",
       "      <td>0.0</td>\n",
       "      <td>0.0</td>\n",
       "      <td>0.0</td>\n",
       "      <td>0.0</td>\n",
       "      <td>0.00</td>\n",
       "      <td>0.0</td>\n",
       "      <td>...</td>\n",
       "      <td>0.0</td>\n",
       "      <td>0.0</td>\n",
       "      <td>0.0</td>\n",
       "      <td>0.0</td>\n",
       "      <td>0.000</td>\n",
       "      <td>0.000000</td>\n",
       "      <td>0.0</td>\n",
       "      <td>0.0</td>\n",
       "      <td>0.0</td>\n",
       "      <td>0.0</td>\n",
       "    </tr>\n",
       "    <tr>\n",
       "      <th>AdVenture Capitalist</th>\n",
       "      <td>0.0</td>\n",
       "      <td>0.0</td>\n",
       "      <td>0.0</td>\n",
       "      <td>0.0</td>\n",
       "      <td>0.0</td>\n",
       "      <td>0.0</td>\n",
       "      <td>0.0</td>\n",
       "      <td>0.0</td>\n",
       "      <td>0.00</td>\n",
       "      <td>0.0</td>\n",
       "      <td>...</td>\n",
       "      <td>0.0</td>\n",
       "      <td>0.0</td>\n",
       "      <td>0.0</td>\n",
       "      <td>0.0</td>\n",
       "      <td>0.000</td>\n",
       "      <td>0.000000</td>\n",
       "      <td>0.0</td>\n",
       "      <td>0.0</td>\n",
       "      <td>0.0</td>\n",
       "      <td>0.0</td>\n",
       "    </tr>\n",
       "  </tbody>\n",
       "</table>\n",
       "<p>5 rows × 3059 columns</p>\n",
       "</div>"
      ],
      "text/plain": [
       "game_id               100057229  100096071  100311267  100322840  100351493  \\\n",
       "game_name                                                                     \n",
       "7 Days to Die               0.0        0.0        0.0        0.0        0.0   \n",
       "APB Reloaded                0.0        0.0        0.0        0.0        0.0   \n",
       "ARK Survival Evolved        0.0        0.0        0.0        0.0        0.0   \n",
       "Ace of Spades               0.0        0.0        0.0        0.0        0.0   \n",
       "AdVenture Capitalist        0.0        0.0        0.0        0.0        0.0   \n",
       "\n",
       "game_id               100359523  100431715  100444456  100519466  100630947  \\\n",
       "game_name                                                                     \n",
       "7 Days to Die               0.0        0.0        0.0       0.00        0.0   \n",
       "APB Reloaded                0.0        0.0        0.0       0.00        0.0   \n",
       "ARK Survival Evolved        0.0        0.0        0.0       0.43        0.0   \n",
       "Ace of Spades               0.0        0.0        0.0       0.00        0.0   \n",
       "AdVenture Capitalist        0.0        0.0        0.0       0.00        0.0   \n",
       "\n",
       "game_id               ...  994489  9946133  99484728  99640715  99704390  \\\n",
       "game_name             ...                                                  \n",
       "7 Days to Die         ...     0.0      0.0       0.0       0.0     0.000   \n",
       "APB Reloaded          ...     0.0      0.0       0.0       0.0    -0.475   \n",
       "ARK Survival Evolved  ...     0.0      0.0       0.0       0.0     0.000   \n",
       "Ace of Spades         ...     0.0      0.0       0.0       0.0     0.000   \n",
       "AdVenture Capitalist  ...     0.0      0.0       0.0       0.0     0.000   \n",
       "\n",
       "game_id               99711581  99713453  99723205  99766416  99802512  \n",
       "game_name                                                               \n",
       "7 Days to Die         0.000000       0.0       0.0       0.0       0.0  \n",
       "APB Reloaded         -0.166667       0.0       0.0       0.0       0.0  \n",
       "ARK Survival Evolved  0.000000       0.0       0.0       0.0       0.0  \n",
       "Ace of Spades         0.000000       0.0       0.0       0.0       0.0  \n",
       "AdVenture Capitalist  0.000000       0.0       0.0       0.0       0.0  \n",
       "\n",
       "[5 rows x 3059 columns]"
      ]
     },
     "execution_count": 42,
     "metadata": {},
     "output_type": "execute_result"
    }
   ],
   "source": [
    "pv.head()"
   ]
  },
  {
   "cell_type": "code",
   "execution_count": 43,
   "metadata": {
    "execution": {
     "iopub.execute_input": "2022-08-10T06:53:49.854021Z",
     "iopub.status.busy": "2022-08-10T06:53:49.853600Z",
     "iopub.status.idle": "2022-08-10T06:53:49.859440Z",
     "shell.execute_reply": "2022-08-10T06:53:49.858009Z",
     "shell.execute_reply.started": "2022-08-10T06:53:49.853987Z"
    }
   },
   "outputs": [],
   "source": [
    "import scipy as sp\n",
    "import operator\n"
   ]
  },
  {
   "cell_type": "code",
   "execution_count": 44,
   "metadata": {
    "execution": {
     "iopub.execute_input": "2022-08-10T06:53:49.863016Z",
     "iopub.status.busy": "2022-08-10T06:53:49.862022Z",
     "iopub.status.idle": "2022-08-10T06:53:49.884109Z",
     "shell.execute_reply": "2022-08-10T06:53:49.882472Z",
     "shell.execute_reply.started": "2022-08-10T06:53:49.862967Z"
    }
   },
   "outputs": [],
   "source": [
    "# converting data into sparse matrix format \n",
    "pv_sparse = sp.sparse.csr_matrix(pv.values)"
   ]
  },
  {
   "cell_type": "code",
   "execution_count": 45,
   "metadata": {
    "execution": {
     "iopub.execute_input": "2022-08-10T06:53:49.888507Z",
     "iopub.status.busy": "2022-08-10T06:53:49.888084Z",
     "iopub.status.idle": "2022-08-10T06:53:50.130321Z",
     "shell.execute_reply": "2022-08-10T06:53:50.129316Z",
     "shell.execute_reply.started": "2022-08-10T06:53:49.888470Z"
    }
   },
   "outputs": [],
   "source": [
    "\n",
    "item_simi = cosine_similarity(pv_sparse)\n",
    "user_simi = cosine_similarity(pv_sparse.T)"
   ]
  },
  {
   "cell_type": "code",
   "execution_count": 46,
   "metadata": {
    "execution": {
     "iopub.execute_input": "2022-08-10T06:53:50.132963Z",
     "iopub.status.busy": "2022-08-10T06:53:50.132139Z",
     "iopub.status.idle": "2022-08-10T06:53:50.139587Z",
     "shell.execute_reply": "2022-08-10T06:53:50.138688Z",
     "shell.execute_reply.started": "2022-08-10T06:53:50.132915Z"
    }
   },
   "outputs": [],
   "source": [
    "## inserting similarity matrix into a dataframe object\n",
    "# item similarity dataframe:\n",
    "df_item = pd.DataFrame(item_simi,index = pv.index ,columns = pv.index)\n",
    "# User_similarity dataframe\n",
    "df_user = pd.DataFrame(user_simi , index= pv.columns,columns=pv.columns)"
   ]
  },
  {
   "cell_type": "code",
   "execution_count": 47,
   "metadata": {
    "execution": {
     "iopub.execute_input": "2022-08-10T06:53:50.142462Z",
     "iopub.status.busy": "2022-08-10T06:53:50.141492Z",
     "iopub.status.idle": "2022-08-10T06:53:50.182336Z",
     "shell.execute_reply": "2022-08-10T06:53:50.180727Z",
     "shell.execute_reply.started": "2022-08-10T06:53:50.142413Z"
    },
    "scrolled": true
   },
   "outputs": [
    {
     "data": {
      "text/html": [
       "<div>\n",
       "<style scoped>\n",
       "    .dataframe tbody tr th:only-of-type {\n",
       "        vertical-align: middle;\n",
       "    }\n",
       "\n",
       "    .dataframe tbody tr th {\n",
       "        vertical-align: top;\n",
       "    }\n",
       "\n",
       "    .dataframe thead th {\n",
       "        text-align: right;\n",
       "    }\n",
       "</style>\n",
       "<table border=\"1\" class=\"dataframe\">\n",
       "  <thead>\n",
       "    <tr style=\"text-align: right;\">\n",
       "      <th>game_name</th>\n",
       "      <th>7 Days to Die</th>\n",
       "      <th>APB Reloaded</th>\n",
       "      <th>ARK Survival Evolved</th>\n",
       "      <th>Ace of Spades</th>\n",
       "      <th>AdVenture Capitalist</th>\n",
       "      <th>Aftermath</th>\n",
       "      <th>Age of Chivalry</th>\n",
       "      <th>Age of Empires II HD Edition</th>\n",
       "      <th>Age of Empires III Complete Collection</th>\n",
       "      <th>Age of Mythology Extended Edition</th>\n",
       "      <th>...</th>\n",
       "      <th>Warhammer 40,000 Dawn of War II - Chaos Rising</th>\n",
       "      <th>Warhammer 40,000 Space Marine</th>\n",
       "      <th>Wasteland 2</th>\n",
       "      <th>Watch_Dogs</th>\n",
       "      <th>Wolfenstein The New Order</th>\n",
       "      <th>Worms Reloaded</th>\n",
       "      <th>Worms Revolution</th>\n",
       "      <th>XCOM Enemy Unknown</th>\n",
       "      <th>Zombie Panic Source</th>\n",
       "      <th>theHunter</th>\n",
       "    </tr>\n",
       "    <tr>\n",
       "      <th>game_name</th>\n",
       "      <th></th>\n",
       "      <th></th>\n",
       "      <th></th>\n",
       "      <th></th>\n",
       "      <th></th>\n",
       "      <th></th>\n",
       "      <th></th>\n",
       "      <th></th>\n",
       "      <th></th>\n",
       "      <th></th>\n",
       "      <th></th>\n",
       "      <th></th>\n",
       "      <th></th>\n",
       "      <th></th>\n",
       "      <th></th>\n",
       "      <th></th>\n",
       "      <th></th>\n",
       "      <th></th>\n",
       "      <th></th>\n",
       "      <th></th>\n",
       "      <th></th>\n",
       "    </tr>\n",
       "  </thead>\n",
       "  <tbody>\n",
       "    <tr>\n",
       "      <th>7 Days to Die</th>\n",
       "      <td>1.000000</td>\n",
       "      <td>0.011889</td>\n",
       "      <td>0.023910</td>\n",
       "      <td>0.003702</td>\n",
       "      <td>-0.006406</td>\n",
       "      <td>-0.036463</td>\n",
       "      <td>0.047295</td>\n",
       "      <td>0.049644</td>\n",
       "      <td>-0.003137</td>\n",
       "      <td>0.000000</td>\n",
       "      <td>...</td>\n",
       "      <td>-0.038894</td>\n",
       "      <td>0.017805</td>\n",
       "      <td>-0.027081</td>\n",
       "      <td>0.011157</td>\n",
       "      <td>0.028949</td>\n",
       "      <td>0.049210</td>\n",
       "      <td>-0.028614</td>\n",
       "      <td>0.063191</td>\n",
       "      <td>0.061200</td>\n",
       "      <td>-0.034545</td>\n",
       "    </tr>\n",
       "    <tr>\n",
       "      <th>APB Reloaded</th>\n",
       "      <td>0.011889</td>\n",
       "      <td>1.000000</td>\n",
       "      <td>-0.046199</td>\n",
       "      <td>-0.012738</td>\n",
       "      <td>-0.030157</td>\n",
       "      <td>-0.005157</td>\n",
       "      <td>-0.000540</td>\n",
       "      <td>-0.013881</td>\n",
       "      <td>-0.008468</td>\n",
       "      <td>0.004806</td>\n",
       "      <td>...</td>\n",
       "      <td>0.000280</td>\n",
       "      <td>0.027197</td>\n",
       "      <td>0.000000</td>\n",
       "      <td>0.000000</td>\n",
       "      <td>0.010149</td>\n",
       "      <td>-0.038028</td>\n",
       "      <td>-0.007166</td>\n",
       "      <td>-0.008280</td>\n",
       "      <td>0.024256</td>\n",
       "      <td>-0.051036</td>\n",
       "    </tr>\n",
       "    <tr>\n",
       "      <th>ARK Survival Evolved</th>\n",
       "      <td>0.023910</td>\n",
       "      <td>-0.046199</td>\n",
       "      <td>1.000000</td>\n",
       "      <td>-0.006097</td>\n",
       "      <td>-0.006445</td>\n",
       "      <td>0.000000</td>\n",
       "      <td>0.023592</td>\n",
       "      <td>0.008420</td>\n",
       "      <td>-0.020514</td>\n",
       "      <td>-0.009609</td>\n",
       "      <td>...</td>\n",
       "      <td>-0.031033</td>\n",
       "      <td>0.000214</td>\n",
       "      <td>-0.014996</td>\n",
       "      <td>0.022721</td>\n",
       "      <td>0.000000</td>\n",
       "      <td>-0.023283</td>\n",
       "      <td>0.000231</td>\n",
       "      <td>0.001994</td>\n",
       "      <td>0.028022</td>\n",
       "      <td>-0.015766</td>\n",
       "    </tr>\n",
       "    <tr>\n",
       "      <th>Ace of Spades</th>\n",
       "      <td>0.003702</td>\n",
       "      <td>-0.012738</td>\n",
       "      <td>-0.006097</td>\n",
       "      <td>1.000000</td>\n",
       "      <td>-0.003154</td>\n",
       "      <td>0.000000</td>\n",
       "      <td>-0.034444</td>\n",
       "      <td>-0.006776</td>\n",
       "      <td>0.000000</td>\n",
       "      <td>0.000000</td>\n",
       "      <td>...</td>\n",
       "      <td>0.000858</td>\n",
       "      <td>-0.022283</td>\n",
       "      <td>0.000000</td>\n",
       "      <td>0.000000</td>\n",
       "      <td>0.000000</td>\n",
       "      <td>0.050384</td>\n",
       "      <td>0.053498</td>\n",
       "      <td>0.009763</td>\n",
       "      <td>-0.022023</td>\n",
       "      <td>-0.029286</td>\n",
       "    </tr>\n",
       "    <tr>\n",
       "      <th>AdVenture Capitalist</th>\n",
       "      <td>-0.006406</td>\n",
       "      <td>-0.030157</td>\n",
       "      <td>-0.006445</td>\n",
       "      <td>-0.003154</td>\n",
       "      <td>1.000000</td>\n",
       "      <td>-0.043081</td>\n",
       "      <td>0.035806</td>\n",
       "      <td>-0.029016</td>\n",
       "      <td>-0.002733</td>\n",
       "      <td>0.000000</td>\n",
       "      <td>...</td>\n",
       "      <td>0.019090</td>\n",
       "      <td>0.008819</td>\n",
       "      <td>0.000000</td>\n",
       "      <td>0.000000</td>\n",
       "      <td>-0.003790</td>\n",
       "      <td>0.000000</td>\n",
       "      <td>0.014821</td>\n",
       "      <td>-0.014461</td>\n",
       "      <td>0.000000</td>\n",
       "      <td>0.086266</td>\n",
       "    </tr>\n",
       "  </tbody>\n",
       "</table>\n",
       "<p>5 rows × 431 columns</p>\n",
       "</div>"
      ],
      "text/plain": [
       "game_name             7 Days to Die  APB Reloaded  ARK Survival Evolved  \\\n",
       "game_name                                                                 \n",
       "7 Days to Die              1.000000      0.011889              0.023910   \n",
       "APB Reloaded               0.011889      1.000000             -0.046199   \n",
       "ARK Survival Evolved       0.023910     -0.046199              1.000000   \n",
       "Ace of Spades              0.003702     -0.012738             -0.006097   \n",
       "AdVenture Capitalist      -0.006406     -0.030157             -0.006445   \n",
       "\n",
       "game_name             Ace of Spades  AdVenture Capitalist  Aftermath  \\\n",
       "game_name                                                              \n",
       "7 Days to Die              0.003702             -0.006406  -0.036463   \n",
       "APB Reloaded              -0.012738             -0.030157  -0.005157   \n",
       "ARK Survival Evolved      -0.006097             -0.006445   0.000000   \n",
       "Ace of Spades              1.000000             -0.003154   0.000000   \n",
       "AdVenture Capitalist      -0.003154              1.000000  -0.043081   \n",
       "\n",
       "game_name             Age of Chivalry  Age of Empires II HD Edition  \\\n",
       "game_name                                                             \n",
       "7 Days to Die                0.047295                      0.049644   \n",
       "APB Reloaded                -0.000540                     -0.013881   \n",
       "ARK Survival Evolved         0.023592                      0.008420   \n",
       "Ace of Spades               -0.034444                     -0.006776   \n",
       "AdVenture Capitalist         0.035806                     -0.029016   \n",
       "\n",
       "game_name             Age of Empires III Complete Collection  \\\n",
       "game_name                                                      \n",
       "7 Days to Die                                      -0.003137   \n",
       "APB Reloaded                                       -0.008468   \n",
       "ARK Survival Evolved                               -0.020514   \n",
       "Ace of Spades                                       0.000000   \n",
       "AdVenture Capitalist                               -0.002733   \n",
       "\n",
       "game_name             Age of Mythology Extended Edition  ...  \\\n",
       "game_name                                                ...   \n",
       "7 Days to Die                                  0.000000  ...   \n",
       "APB Reloaded                                   0.004806  ...   \n",
       "ARK Survival Evolved                          -0.009609  ...   \n",
       "Ace of Spades                                  0.000000  ...   \n",
       "AdVenture Capitalist                           0.000000  ...   \n",
       "\n",
       "game_name             Warhammer 40,000 Dawn of War II - Chaos Rising  \\\n",
       "game_name                                                              \n",
       "7 Days to Die                                              -0.038894   \n",
       "APB Reloaded                                                0.000280   \n",
       "ARK Survival Evolved                                       -0.031033   \n",
       "Ace of Spades                                               0.000858   \n",
       "AdVenture Capitalist                                        0.019090   \n",
       "\n",
       "game_name             Warhammer 40,000 Space Marine  Wasteland 2  Watch_Dogs  \\\n",
       "game_name                                                                      \n",
       "7 Days to Die                              0.017805    -0.027081    0.011157   \n",
       "APB Reloaded                               0.027197     0.000000    0.000000   \n",
       "ARK Survival Evolved                       0.000214    -0.014996    0.022721   \n",
       "Ace of Spades                             -0.022283     0.000000    0.000000   \n",
       "AdVenture Capitalist                       0.008819     0.000000    0.000000   \n",
       "\n",
       "game_name             Wolfenstein The New Order  Worms Reloaded  \\\n",
       "game_name                                                         \n",
       "7 Days to Die                          0.028949        0.049210   \n",
       "APB Reloaded                           0.010149       -0.038028   \n",
       "ARK Survival Evolved                   0.000000       -0.023283   \n",
       "Ace of Spades                          0.000000        0.050384   \n",
       "AdVenture Capitalist                  -0.003790        0.000000   \n",
       "\n",
       "game_name             Worms Revolution  XCOM Enemy Unknown  \\\n",
       "game_name                                                    \n",
       "7 Days to Die                -0.028614            0.063191   \n",
       "APB Reloaded                 -0.007166           -0.008280   \n",
       "ARK Survival Evolved          0.000231            0.001994   \n",
       "Ace of Spades                 0.053498            0.009763   \n",
       "AdVenture Capitalist          0.014821           -0.014461   \n",
       "\n",
       "game_name             Zombie Panic Source  theHunter  \n",
       "game_name                                             \n",
       "7 Days to Die                    0.061200  -0.034545  \n",
       "APB Reloaded                     0.024256  -0.051036  \n",
       "ARK Survival Evolved             0.028022  -0.015766  \n",
       "Ace of Spades                   -0.022023  -0.029286  \n",
       "AdVenture Capitalist             0.000000   0.086266  \n",
       "\n",
       "[5 rows x 431 columns]"
      ]
     },
     "execution_count": 47,
     "metadata": {},
     "output_type": "execute_result"
    }
   ],
   "source": [
    "df_item.head()"
   ]
  },
  {
   "cell_type": "code",
   "execution_count": 48,
   "metadata": {
    "execution": {
     "iopub.execute_input": "2022-08-10T06:53:50.184758Z",
     "iopub.status.busy": "2022-08-10T06:53:50.184340Z",
     "iopub.status.idle": "2022-08-10T06:53:50.214488Z",
     "shell.execute_reply": "2022-08-10T06:53:50.213419Z",
     "shell.execute_reply.started": "2022-08-10T06:53:50.184723Z"
    }
   },
   "outputs": [
    {
     "data": {
      "text/html": [
       "<div>\n",
       "<style scoped>\n",
       "    .dataframe tbody tr th:only-of-type {\n",
       "        vertical-align: middle;\n",
       "    }\n",
       "\n",
       "    .dataframe tbody tr th {\n",
       "        vertical-align: top;\n",
       "    }\n",
       "\n",
       "    .dataframe thead th {\n",
       "        text-align: right;\n",
       "    }\n",
       "</style>\n",
       "<table border=\"1\" class=\"dataframe\">\n",
       "  <thead>\n",
       "    <tr style=\"text-align: right;\">\n",
       "      <th>game_id</th>\n",
       "      <th>100057229</th>\n",
       "      <th>100096071</th>\n",
       "      <th>100311267</th>\n",
       "      <th>100322840</th>\n",
       "      <th>100351493</th>\n",
       "      <th>100359523</th>\n",
       "      <th>100431715</th>\n",
       "      <th>100444456</th>\n",
       "      <th>100519466</th>\n",
       "      <th>100630947</th>\n",
       "      <th>...</th>\n",
       "      <th>994489</th>\n",
       "      <th>9946133</th>\n",
       "      <th>99484728</th>\n",
       "      <th>99640715</th>\n",
       "      <th>99704390</th>\n",
       "      <th>99711581</th>\n",
       "      <th>99713453</th>\n",
       "      <th>99723205</th>\n",
       "      <th>99766416</th>\n",
       "      <th>99802512</th>\n",
       "    </tr>\n",
       "    <tr>\n",
       "      <th>game_id</th>\n",
       "      <th></th>\n",
       "      <th></th>\n",
       "      <th></th>\n",
       "      <th></th>\n",
       "      <th></th>\n",
       "      <th></th>\n",
       "      <th></th>\n",
       "      <th></th>\n",
       "      <th></th>\n",
       "      <th></th>\n",
       "      <th></th>\n",
       "      <th></th>\n",
       "      <th></th>\n",
       "      <th></th>\n",
       "      <th></th>\n",
       "      <th></th>\n",
       "      <th></th>\n",
       "      <th></th>\n",
       "      <th></th>\n",
       "      <th></th>\n",
       "      <th></th>\n",
       "    </tr>\n",
       "  </thead>\n",
       "  <tbody>\n",
       "    <tr>\n",
       "      <th>100057229</th>\n",
       "      <td>1.000000</td>\n",
       "      <td>-0.102897</td>\n",
       "      <td>0.000000</td>\n",
       "      <td>0.0</td>\n",
       "      <td>0.000000</td>\n",
       "      <td>0.0</td>\n",
       "      <td>0.000000</td>\n",
       "      <td>0.000000</td>\n",
       "      <td>0.112023</td>\n",
       "      <td>0.000000</td>\n",
       "      <td>...</td>\n",
       "      <td>0.000000</td>\n",
       "      <td>0.000000</td>\n",
       "      <td>0.000000</td>\n",
       "      <td>0.0</td>\n",
       "      <td>0.000000</td>\n",
       "      <td>-0.074536</td>\n",
       "      <td>0.000000</td>\n",
       "      <td>0.052849</td>\n",
       "      <td>0.000000</td>\n",
       "      <td>0.0</td>\n",
       "    </tr>\n",
       "    <tr>\n",
       "      <th>100096071</th>\n",
       "      <td>-0.102897</td>\n",
       "      <td>1.000000</td>\n",
       "      <td>0.049862</td>\n",
       "      <td>0.0</td>\n",
       "      <td>0.000000</td>\n",
       "      <td>0.0</td>\n",
       "      <td>0.067894</td>\n",
       "      <td>0.000000</td>\n",
       "      <td>-0.154673</td>\n",
       "      <td>-0.186033</td>\n",
       "      <td>...</td>\n",
       "      <td>0.303790</td>\n",
       "      <td>0.036035</td>\n",
       "      <td>0.000000</td>\n",
       "      <td>0.0</td>\n",
       "      <td>-0.150648</td>\n",
       "      <td>-0.046017</td>\n",
       "      <td>0.000000</td>\n",
       "      <td>0.013983</td>\n",
       "      <td>0.039199</td>\n",
       "      <td>0.0</td>\n",
       "    </tr>\n",
       "    <tr>\n",
       "      <th>100311267</th>\n",
       "      <td>0.000000</td>\n",
       "      <td>0.049862</td>\n",
       "      <td>1.000000</td>\n",
       "      <td>0.0</td>\n",
       "      <td>-0.004669</td>\n",
       "      <td>0.0</td>\n",
       "      <td>0.000000</td>\n",
       "      <td>-0.030655</td>\n",
       "      <td>0.178706</td>\n",
       "      <td>0.000000</td>\n",
       "      <td>...</td>\n",
       "      <td>-0.054711</td>\n",
       "      <td>0.280644</td>\n",
       "      <td>0.032827</td>\n",
       "      <td>0.0</td>\n",
       "      <td>-0.035141</td>\n",
       "      <td>0.645942</td>\n",
       "      <td>0.000000</td>\n",
       "      <td>-0.128874</td>\n",
       "      <td>0.000000</td>\n",
       "      <td>0.0</td>\n",
       "    </tr>\n",
       "    <tr>\n",
       "      <th>100322840</th>\n",
       "      <td>0.000000</td>\n",
       "      <td>0.000000</td>\n",
       "      <td>0.000000</td>\n",
       "      <td>1.0</td>\n",
       "      <td>0.000000</td>\n",
       "      <td>0.0</td>\n",
       "      <td>0.000000</td>\n",
       "      <td>0.000000</td>\n",
       "      <td>0.000000</td>\n",
       "      <td>0.000000</td>\n",
       "      <td>...</td>\n",
       "      <td>0.000000</td>\n",
       "      <td>0.000000</td>\n",
       "      <td>0.000000</td>\n",
       "      <td>0.0</td>\n",
       "      <td>0.259037</td>\n",
       "      <td>0.000000</td>\n",
       "      <td>0.204124</td>\n",
       "      <td>0.000000</td>\n",
       "      <td>0.000000</td>\n",
       "      <td>0.0</td>\n",
       "    </tr>\n",
       "    <tr>\n",
       "      <th>100351493</th>\n",
       "      <td>0.000000</td>\n",
       "      <td>0.000000</td>\n",
       "      <td>-0.004669</td>\n",
       "      <td>0.0</td>\n",
       "      <td>1.000000</td>\n",
       "      <td>0.0</td>\n",
       "      <td>0.172433</td>\n",
       "      <td>0.000000</td>\n",
       "      <td>0.000000</td>\n",
       "      <td>0.000000</td>\n",
       "      <td>...</td>\n",
       "      <td>0.000000</td>\n",
       "      <td>0.000000</td>\n",
       "      <td>0.000000</td>\n",
       "      <td>0.0</td>\n",
       "      <td>0.000000</td>\n",
       "      <td>0.000000</td>\n",
       "      <td>0.000000</td>\n",
       "      <td>0.000000</td>\n",
       "      <td>0.000000</td>\n",
       "      <td>0.0</td>\n",
       "    </tr>\n",
       "  </tbody>\n",
       "</table>\n",
       "<p>5 rows × 3059 columns</p>\n",
       "</div>"
      ],
      "text/plain": [
       "game_id    100057229  100096071  100311267  100322840  100351493  100359523  \\\n",
       "game_id                                                                       \n",
       "100057229   1.000000  -0.102897   0.000000        0.0   0.000000        0.0   \n",
       "100096071  -0.102897   1.000000   0.049862        0.0   0.000000        0.0   \n",
       "100311267   0.000000   0.049862   1.000000        0.0  -0.004669        0.0   \n",
       "100322840   0.000000   0.000000   0.000000        1.0   0.000000        0.0   \n",
       "100351493   0.000000   0.000000  -0.004669        0.0   1.000000        0.0   \n",
       "\n",
       "game_id    100431715  100444456  100519466  100630947  ...    994489  \\\n",
       "game_id                                                ...             \n",
       "100057229   0.000000   0.000000   0.112023   0.000000  ...  0.000000   \n",
       "100096071   0.067894   0.000000  -0.154673  -0.186033  ...  0.303790   \n",
       "100311267   0.000000  -0.030655   0.178706   0.000000  ... -0.054711   \n",
       "100322840   0.000000   0.000000   0.000000   0.000000  ...  0.000000   \n",
       "100351493   0.172433   0.000000   0.000000   0.000000  ...  0.000000   \n",
       "\n",
       "game_id     9946133  99484728  99640715  99704390  99711581  99713453  \\\n",
       "game_id                                                                 \n",
       "100057229  0.000000  0.000000       0.0  0.000000 -0.074536  0.000000   \n",
       "100096071  0.036035  0.000000       0.0 -0.150648 -0.046017  0.000000   \n",
       "100311267  0.280644  0.032827       0.0 -0.035141  0.645942  0.000000   \n",
       "100322840  0.000000  0.000000       0.0  0.259037  0.000000  0.204124   \n",
       "100351493  0.000000  0.000000       0.0  0.000000  0.000000  0.000000   \n",
       "\n",
       "game_id    99723205  99766416  99802512  \n",
       "game_id                                  \n",
       "100057229  0.052849  0.000000       0.0  \n",
       "100096071  0.013983  0.039199       0.0  \n",
       "100311267 -0.128874  0.000000       0.0  \n",
       "100322840  0.000000  0.000000       0.0  \n",
       "100351493  0.000000  0.000000       0.0  \n",
       "\n",
       "[5 rows x 3059 columns]"
      ]
     },
     "execution_count": 48,
     "metadata": {},
     "output_type": "execute_result"
    }
   ],
   "source": [
    "df_user.head()"
   ]
  },
  {
   "cell_type": "code",
   "execution_count": 49,
   "metadata": {},
   "outputs": [
    {
     "data": {
      "text/plain": [
       "game_name\n",
       "Aftermath                        1.000000\n",
       "Alice Madness Returns            0.142564\n",
       "Shadow Warrior                   0.139610\n",
       "Brtal Legend                     0.131665\n",
       "Resident Evil 5 / Biohazard 5    0.103880\n",
       "                                   ...   \n",
       "Nosgoth                         -0.054888\n",
       "Medieval II Total War           -0.055441\n",
       "Blacklight Retribution          -0.056010\n",
       "Euro Truck Simulator 2          -0.056258\n",
       "Tropico 4                       -0.072437\n",
       "Name: Aftermath, Length: 431, dtype: float64"
      ]
     },
     "execution_count": 49,
     "metadata": {},
     "output_type": "execute_result"
    }
   ],
   "source": [
    "df_item.sort_values(ascending=False,by = 'Aftermath').loc[:,'Aftermath']"
   ]
  },
  {
   "cell_type": "code",
   "execution_count": 50,
   "metadata": {
    "execution": {
     "iopub.execute_input": "2022-08-10T06:53:50.217207Z",
     "iopub.status.busy": "2022-08-10T06:53:50.216414Z",
     "iopub.status.idle": "2022-08-10T06:53:50.223458Z",
     "shell.execute_reply": "2022-08-10T06:53:50.222530Z",
     "shell.execute_reply.started": "2022-08-10T06:53:50.217163Z"
    }
   },
   "outputs": [],
   "source": [
    "# Write a function which will gives the top 5 games having highest cosine similarity \n",
    "def top_games(game):\n",
    "    count = 1\n",
    "    print('Similar games to {} are \\n'.format(game))\n",
    "    similarity_scores = df_item.sort_values(ascending=False,by = 'Aftermath').loc[:,'Aftermath']\n",
    "    for item in df_item.sort_values(ascending=False,by = game).index[1:6]:\n",
    "        print('{} - {}, similarity score = {}'.format(count,item,similarity_scores[count]))\n",
    "        count+=1"
   ]
  },
  {
   "cell_type": "code",
   "execution_count": 79,
   "metadata": {
    "execution": {
     "iopub.execute_input": "2022-08-10T06:53:50.225991Z",
     "iopub.status.busy": "2022-08-10T06:53:50.225357Z",
     "iopub.status.idle": "2022-08-10T06:53:50.241349Z",
     "shell.execute_reply": "2022-08-10T06:53:50.239236Z",
     "shell.execute_reply.started": "2022-08-10T06:53:50.225944Z"
    }
   },
   "outputs": [
    {
     "name": "stdout",
     "output_type": "stream",
     "text": [
      "Similar games to Portal are \n",
      "\n",
      "1 - Star Wars Republic Commando, similarity score = 0.1425640772895726\n",
      "2 - Half-Life 2 Episode Two, similarity score = 0.13961042843110735\n",
      "3 - Portal 2, similarity score = 0.13166524201269517\n",
      "4 - Mirror's Edge, similarity score = 0.1038796891709585\n",
      "5 - Half-Life Source, similarity score = 0.10216559602542166\n"
     ]
    }
   ],
   "source": [
    "top_games('Portal')"
   ]
  },
  {
   "cell_type": "code",
   "execution_count": 52,
   "metadata": {
    "execution": {
     "iopub.execute_input": "2022-08-10T06:53:50.245825Z",
     "iopub.status.busy": "2022-08-10T06:53:50.244694Z",
     "iopub.status.idle": "2022-08-10T06:53:50.254422Z",
     "shell.execute_reply": "2022-08-10T06:53:50.253221Z",
     "shell.execute_reply.started": "2022-08-10T06:53:50.245772Z"
    }
   },
   "outputs": [
    {
     "data": {
      "text/plain": [
       "Index(['100057229', '100096071', '100311267', '100322840', '100351493',\n",
       "       '100359523', '100431715', '100444456', '100519466', '100630947',\n",
       "       ...\n",
       "       '994489', '9946133', '99484728', '99640715', '99704390', '99711581',\n",
       "       '99713453', '99723205', '99766416', '99802512'],\n",
       "      dtype='object', name='game_id', length=3059)"
      ]
     },
     "execution_count": 52,
     "metadata": {},
     "output_type": "execute_result"
    }
   ],
   "source": [
    "# checking the columns :\n",
    "pv.columns"
   ]
  },
  {
   "cell_type": "code",
   "execution_count": 53,
   "metadata": {},
   "outputs": [
    {
     "data": {
      "text/plain": [
       "Index(['40289887', '185494712', '16710264', '20566124', '49769103'], dtype='object', name='game_id')"
      ]
     },
     "execution_count": 53,
     "metadata": {},
     "output_type": "execute_result"
    }
   ],
   "source": [
    "df_user.sort_values(by='99484728',ascending=False).index[1:6]"
   ]
  },
  {
   "cell_type": "code",
   "execution_count": 54,
   "metadata": {
    "execution": {
     "iopub.execute_input": "2022-08-10T06:53:50.256231Z",
     "iopub.status.busy": "2022-08-10T06:53:50.255877Z",
     "iopub.status.idle": "2022-08-10T06:53:50.267039Z",
     "shell.execute_reply": "2022-08-10T06:53:50.265621Z",
     "shell.execute_reply.started": "2022-08-10T06:53:50.256198Z"
    }
   },
   "outputs": [],
   "source": [
    "# function which will gives the user having similar values:\n",
    "def user_id(user):\n",
    "    if user not in pv.columns:\n",
    "        print('No data available for this user {}'.format(user))\n",
    "    sim_val = df_user.sort_values(by=user,ascending=False).loc[:,user].tolist()[1:6]\n",
    "    sim_user = df_user.sort_values(by= user,ascending=False).index[1:6]\n",
    "    zipped = zip(sim_user,sim_val)\n",
    "    for user, sim in zipped:\n",
    "        print('user #{0},similarity values :{1:.2f}'.format(user,sim))"
   ]
  },
  {
   "cell_type": "code",
   "execution_count": 55,
   "metadata": {
    "execution": {
     "iopub.execute_input": "2022-08-10T06:53:50.269380Z",
     "iopub.status.busy": "2022-08-10T06:53:50.268807Z",
     "iopub.status.idle": "2022-08-10T06:53:50.341206Z",
     "shell.execute_reply": "2022-08-10T06:53:50.339692Z",
     "shell.execute_reply.started": "2022-08-10T06:53:50.269328Z"
    }
   },
   "outputs": [
    {
     "name": "stdout",
     "output_type": "stream",
     "text": [
      "user #40289887,similarity values :0.73\n",
      "user #185494712,similarity values :0.71\n",
      "user #16710264,similarity values :0.71\n",
      "user #20566124,similarity values :0.67\n",
      "user #49769103,similarity values :0.67\n"
     ]
    }
   ],
   "source": [
    "user_id('99484728')"
   ]
  },
  {
   "cell_type": "code",
   "execution_count": 56,
   "metadata": {
    "execution": {
     "iopub.execute_input": "2022-08-10T06:53:50.343513Z",
     "iopub.status.busy": "2022-08-10T06:53:50.342707Z",
     "iopub.status.idle": "2022-08-10T06:53:50.354220Z",
     "shell.execute_reply": "2022-08-10T06:53:50.353226Z",
     "shell.execute_reply.started": "2022-08-10T06:53:50.343463Z"
    }
   },
   "outputs": [],
   "source": [
    "# write a function which will construct a list of list containing the highest rated games per similar user:\n",
    "# return the name of the game along with along with frequency it appears in the list:\n",
    "def simi_user_recs(user):\n",
    "    if user not in pv.columns:\n",
    "        print('No data available for this user {}'.format(user))\n",
    "    sim_user = df_user.sort_values(by = user,ascending=False).index[1:11]\n",
    "    best = []\n",
    "    most_common = {}\n",
    "    for i in sim_user:\n",
    "        max_scorce = pv.loc[:,i].max()\n",
    "        best.append(pv[pv.loc[:,i] == max_scorce].index.tolist())\n",
    "    for i in range(len(best)):\n",
    "        for j in best[i]:\n",
    "            if j in most_common:\n",
    "                most_common[j] =+1\n",
    "            else:\n",
    "                most_common[j] =1\n",
    "    sorted_item = sorted(most_common.items(),key=operator.itemgetter(1),reverse=True)\n",
    "    return sorted_item[:6]"
   ]
  },
  {
   "cell_type": "code",
   "execution_count": 85,
   "metadata": {
    "execution": {
     "iopub.execute_input": "2022-08-10T06:53:50.356339Z",
     "iopub.status.busy": "2022-08-10T06:53:50.355691Z",
     "iopub.status.idle": "2022-08-10T06:53:50.406171Z",
     "shell.execute_reply": "2022-08-10T06:53:50.404920Z",
     "shell.execute_reply.started": "2022-08-10T06:53:50.356300Z"
    }
   },
   "outputs": [
    {
     "data": {
      "text/plain": [
       "[('Half-Life 2', 1),\n",
       " ('Half-Life 2 Episode One', 1),\n",
       " ('Half-Life 2 Episode Two', 1),\n",
       " ('Portal', 1),\n",
       " ('Counter-Strike Global Offensive', 1),\n",
       " (\"Garry's Mod\", 1)]"
      ]
     },
     "execution_count": 85,
     "metadata": {},
     "output_type": "execute_result"
    }
   ],
   "source": [
    "#getting game recommendations for user\n",
    "simi_user_recs('99484728')"
   ]
  },
  {
   "cell_type": "markdown",
   "metadata": {},
   "source": [
    "# Collaborative Filtering using KNN"
   ]
  },
  {
   "cell_type": "code",
   "execution_count": 77,
   "metadata": {},
   "outputs": [
    {
     "data": {
      "text/html": [
       "<div>\n",
       "<style scoped>\n",
       "    .dataframe tbody tr th:only-of-type {\n",
       "        vertical-align: middle;\n",
       "    }\n",
       "\n",
       "    .dataframe tbody tr th {\n",
       "        vertical-align: top;\n",
       "    }\n",
       "\n",
       "    .dataframe thead th {\n",
       "        text-align: right;\n",
       "    }\n",
       "</style>\n",
       "<table border=\"1\" class=\"dataframe\">\n",
       "  <thead>\n",
       "    <tr style=\"text-align: right;\">\n",
       "      <th>game_id</th>\n",
       "      <th>100057229</th>\n",
       "      <th>100096071</th>\n",
       "      <th>100311267</th>\n",
       "      <th>100322840</th>\n",
       "      <th>100351493</th>\n",
       "      <th>100359523</th>\n",
       "      <th>100431715</th>\n",
       "      <th>100444456</th>\n",
       "      <th>100519466</th>\n",
       "      <th>100630947</th>\n",
       "      <th>...</th>\n",
       "      <th>994489</th>\n",
       "      <th>9946133</th>\n",
       "      <th>99484728</th>\n",
       "      <th>99640715</th>\n",
       "      <th>99704390</th>\n",
       "      <th>99711581</th>\n",
       "      <th>99713453</th>\n",
       "      <th>99723205</th>\n",
       "      <th>99766416</th>\n",
       "      <th>99802512</th>\n",
       "    </tr>\n",
       "    <tr>\n",
       "      <th>game_name</th>\n",
       "      <th></th>\n",
       "      <th></th>\n",
       "      <th></th>\n",
       "      <th></th>\n",
       "      <th></th>\n",
       "      <th></th>\n",
       "      <th></th>\n",
       "      <th></th>\n",
       "      <th></th>\n",
       "      <th></th>\n",
       "      <th></th>\n",
       "      <th></th>\n",
       "      <th></th>\n",
       "      <th></th>\n",
       "      <th></th>\n",
       "      <th></th>\n",
       "      <th></th>\n",
       "      <th></th>\n",
       "      <th></th>\n",
       "      <th></th>\n",
       "      <th></th>\n",
       "    </tr>\n",
       "  </thead>\n",
       "  <tbody>\n",
       "    <tr>\n",
       "      <th>7 Days to Die</th>\n",
       "      <td>0.0</td>\n",
       "      <td>0.0</td>\n",
       "      <td>0.0</td>\n",
       "      <td>0.0</td>\n",
       "      <td>0.0</td>\n",
       "      <td>0.0</td>\n",
       "      <td>0.0</td>\n",
       "      <td>0.0</td>\n",
       "      <td>0.00</td>\n",
       "      <td>0.0</td>\n",
       "      <td>...</td>\n",
       "      <td>0.0</td>\n",
       "      <td>0.0</td>\n",
       "      <td>0.0</td>\n",
       "      <td>0.0</td>\n",
       "      <td>0.000</td>\n",
       "      <td>0.000000</td>\n",
       "      <td>0.0</td>\n",
       "      <td>0.0</td>\n",
       "      <td>0.0</td>\n",
       "      <td>0.0</td>\n",
       "    </tr>\n",
       "    <tr>\n",
       "      <th>APB Reloaded</th>\n",
       "      <td>0.0</td>\n",
       "      <td>0.0</td>\n",
       "      <td>0.0</td>\n",
       "      <td>0.0</td>\n",
       "      <td>0.0</td>\n",
       "      <td>0.0</td>\n",
       "      <td>0.0</td>\n",
       "      <td>0.0</td>\n",
       "      <td>0.00</td>\n",
       "      <td>0.0</td>\n",
       "      <td>...</td>\n",
       "      <td>0.0</td>\n",
       "      <td>0.0</td>\n",
       "      <td>0.0</td>\n",
       "      <td>0.0</td>\n",
       "      <td>-0.475</td>\n",
       "      <td>-0.166667</td>\n",
       "      <td>0.0</td>\n",
       "      <td>0.0</td>\n",
       "      <td>0.0</td>\n",
       "      <td>0.0</td>\n",
       "    </tr>\n",
       "    <tr>\n",
       "      <th>ARK Survival Evolved</th>\n",
       "      <td>0.0</td>\n",
       "      <td>0.0</td>\n",
       "      <td>0.0</td>\n",
       "      <td>0.0</td>\n",
       "      <td>0.0</td>\n",
       "      <td>0.0</td>\n",
       "      <td>0.0</td>\n",
       "      <td>0.0</td>\n",
       "      <td>0.43</td>\n",
       "      <td>0.0</td>\n",
       "      <td>...</td>\n",
       "      <td>0.0</td>\n",
       "      <td>0.0</td>\n",
       "      <td>0.0</td>\n",
       "      <td>0.0</td>\n",
       "      <td>0.000</td>\n",
       "      <td>0.000000</td>\n",
       "      <td>0.0</td>\n",
       "      <td>0.0</td>\n",
       "      <td>0.0</td>\n",
       "      <td>0.0</td>\n",
       "    </tr>\n",
       "    <tr>\n",
       "      <th>Ace of Spades</th>\n",
       "      <td>0.0</td>\n",
       "      <td>0.0</td>\n",
       "      <td>0.0</td>\n",
       "      <td>0.0</td>\n",
       "      <td>0.0</td>\n",
       "      <td>0.0</td>\n",
       "      <td>0.0</td>\n",
       "      <td>0.0</td>\n",
       "      <td>0.00</td>\n",
       "      <td>0.0</td>\n",
       "      <td>...</td>\n",
       "      <td>0.0</td>\n",
       "      <td>0.0</td>\n",
       "      <td>0.0</td>\n",
       "      <td>0.0</td>\n",
       "      <td>0.000</td>\n",
       "      <td>0.000000</td>\n",
       "      <td>0.0</td>\n",
       "      <td>0.0</td>\n",
       "      <td>0.0</td>\n",
       "      <td>0.0</td>\n",
       "    </tr>\n",
       "    <tr>\n",
       "      <th>AdVenture Capitalist</th>\n",
       "      <td>0.0</td>\n",
       "      <td>0.0</td>\n",
       "      <td>0.0</td>\n",
       "      <td>0.0</td>\n",
       "      <td>0.0</td>\n",
       "      <td>0.0</td>\n",
       "      <td>0.0</td>\n",
       "      <td>0.0</td>\n",
       "      <td>0.00</td>\n",
       "      <td>0.0</td>\n",
       "      <td>...</td>\n",
       "      <td>0.0</td>\n",
       "      <td>0.0</td>\n",
       "      <td>0.0</td>\n",
       "      <td>0.0</td>\n",
       "      <td>0.000</td>\n",
       "      <td>0.000000</td>\n",
       "      <td>0.0</td>\n",
       "      <td>0.0</td>\n",
       "      <td>0.0</td>\n",
       "      <td>0.0</td>\n",
       "    </tr>\n",
       "    <tr>\n",
       "      <th>...</th>\n",
       "      <td>...</td>\n",
       "      <td>...</td>\n",
       "      <td>...</td>\n",
       "      <td>...</td>\n",
       "      <td>...</td>\n",
       "      <td>...</td>\n",
       "      <td>...</td>\n",
       "      <td>...</td>\n",
       "      <td>...</td>\n",
       "      <td>...</td>\n",
       "      <td>...</td>\n",
       "      <td>...</td>\n",
       "      <td>...</td>\n",
       "      <td>...</td>\n",
       "      <td>...</td>\n",
       "      <td>...</td>\n",
       "      <td>...</td>\n",
       "      <td>...</td>\n",
       "      <td>...</td>\n",
       "      <td>...</td>\n",
       "      <td>...</td>\n",
       "    </tr>\n",
       "    <tr>\n",
       "      <th>Worms Reloaded</th>\n",
       "      <td>0.0</td>\n",
       "      <td>0.0</td>\n",
       "      <td>0.0</td>\n",
       "      <td>0.0</td>\n",
       "      <td>0.0</td>\n",
       "      <td>0.0</td>\n",
       "      <td>0.0</td>\n",
       "      <td>0.0</td>\n",
       "      <td>0.00</td>\n",
       "      <td>0.0</td>\n",
       "      <td>...</td>\n",
       "      <td>0.0</td>\n",
       "      <td>0.0</td>\n",
       "      <td>0.0</td>\n",
       "      <td>0.0</td>\n",
       "      <td>0.000</td>\n",
       "      <td>0.000000</td>\n",
       "      <td>0.0</td>\n",
       "      <td>0.0</td>\n",
       "      <td>0.0</td>\n",
       "      <td>0.0</td>\n",
       "    </tr>\n",
       "    <tr>\n",
       "      <th>Worms Revolution</th>\n",
       "      <td>0.0</td>\n",
       "      <td>0.0</td>\n",
       "      <td>0.0</td>\n",
       "      <td>0.0</td>\n",
       "      <td>0.0</td>\n",
       "      <td>0.0</td>\n",
       "      <td>0.0</td>\n",
       "      <td>0.0</td>\n",
       "      <td>0.00</td>\n",
       "      <td>0.0</td>\n",
       "      <td>...</td>\n",
       "      <td>0.0</td>\n",
       "      <td>0.0</td>\n",
       "      <td>0.0</td>\n",
       "      <td>0.0</td>\n",
       "      <td>0.000</td>\n",
       "      <td>0.000000</td>\n",
       "      <td>0.0</td>\n",
       "      <td>0.0</td>\n",
       "      <td>0.0</td>\n",
       "      <td>0.0</td>\n",
       "    </tr>\n",
       "    <tr>\n",
       "      <th>XCOM Enemy Unknown</th>\n",
       "      <td>0.0</td>\n",
       "      <td>0.0</td>\n",
       "      <td>0.0</td>\n",
       "      <td>0.0</td>\n",
       "      <td>0.0</td>\n",
       "      <td>0.0</td>\n",
       "      <td>0.0</td>\n",
       "      <td>0.0</td>\n",
       "      <td>0.00</td>\n",
       "      <td>0.0</td>\n",
       "      <td>...</td>\n",
       "      <td>0.0</td>\n",
       "      <td>0.0</td>\n",
       "      <td>0.0</td>\n",
       "      <td>0.0</td>\n",
       "      <td>0.000</td>\n",
       "      <td>0.000000</td>\n",
       "      <td>0.0</td>\n",
       "      <td>0.0</td>\n",
       "      <td>0.0</td>\n",
       "      <td>0.0</td>\n",
       "    </tr>\n",
       "    <tr>\n",
       "      <th>Zombie Panic Source</th>\n",
       "      <td>0.0</td>\n",
       "      <td>0.0</td>\n",
       "      <td>0.0</td>\n",
       "      <td>0.0</td>\n",
       "      <td>0.0</td>\n",
       "      <td>0.0</td>\n",
       "      <td>0.0</td>\n",
       "      <td>0.0</td>\n",
       "      <td>0.00</td>\n",
       "      <td>0.0</td>\n",
       "      <td>...</td>\n",
       "      <td>0.0</td>\n",
       "      <td>0.0</td>\n",
       "      <td>0.0</td>\n",
       "      <td>0.0</td>\n",
       "      <td>0.000</td>\n",
       "      <td>0.000000</td>\n",
       "      <td>0.0</td>\n",
       "      <td>0.0</td>\n",
       "      <td>0.0</td>\n",
       "      <td>0.0</td>\n",
       "    </tr>\n",
       "    <tr>\n",
       "      <th>theHunter</th>\n",
       "      <td>0.0</td>\n",
       "      <td>0.0</td>\n",
       "      <td>0.0</td>\n",
       "      <td>0.0</td>\n",
       "      <td>0.0</td>\n",
       "      <td>0.0</td>\n",
       "      <td>0.0</td>\n",
       "      <td>0.0</td>\n",
       "      <td>0.00</td>\n",
       "      <td>0.0</td>\n",
       "      <td>...</td>\n",
       "      <td>0.0</td>\n",
       "      <td>0.0</td>\n",
       "      <td>0.0</td>\n",
       "      <td>0.0</td>\n",
       "      <td>0.000</td>\n",
       "      <td>0.000000</td>\n",
       "      <td>0.0</td>\n",
       "      <td>0.0</td>\n",
       "      <td>0.0</td>\n",
       "      <td>0.0</td>\n",
       "    </tr>\n",
       "  </tbody>\n",
       "</table>\n",
       "<p>431 rows × 3059 columns</p>\n",
       "</div>"
      ],
      "text/plain": [
       "game_id               100057229  100096071  100311267  100322840  100351493  \\\n",
       "game_name                                                                     \n",
       "7 Days to Die               0.0        0.0        0.0        0.0        0.0   \n",
       "APB Reloaded                0.0        0.0        0.0        0.0        0.0   \n",
       "ARK Survival Evolved        0.0        0.0        0.0        0.0        0.0   \n",
       "Ace of Spades               0.0        0.0        0.0        0.0        0.0   \n",
       "AdVenture Capitalist        0.0        0.0        0.0        0.0        0.0   \n",
       "...                         ...        ...        ...        ...        ...   \n",
       "Worms Reloaded              0.0        0.0        0.0        0.0        0.0   \n",
       "Worms Revolution            0.0        0.0        0.0        0.0        0.0   \n",
       "XCOM Enemy Unknown          0.0        0.0        0.0        0.0        0.0   \n",
       "Zombie Panic Source         0.0        0.0        0.0        0.0        0.0   \n",
       "theHunter                   0.0        0.0        0.0        0.0        0.0   \n",
       "\n",
       "game_id               100359523  100431715  100444456  100519466  100630947  \\\n",
       "game_name                                                                     \n",
       "7 Days to Die               0.0        0.0        0.0       0.00        0.0   \n",
       "APB Reloaded                0.0        0.0        0.0       0.00        0.0   \n",
       "ARK Survival Evolved        0.0        0.0        0.0       0.43        0.0   \n",
       "Ace of Spades               0.0        0.0        0.0       0.00        0.0   \n",
       "AdVenture Capitalist        0.0        0.0        0.0       0.00        0.0   \n",
       "...                         ...        ...        ...        ...        ...   \n",
       "Worms Reloaded              0.0        0.0        0.0       0.00        0.0   \n",
       "Worms Revolution            0.0        0.0        0.0       0.00        0.0   \n",
       "XCOM Enemy Unknown          0.0        0.0        0.0       0.00        0.0   \n",
       "Zombie Panic Source         0.0        0.0        0.0       0.00        0.0   \n",
       "theHunter                   0.0        0.0        0.0       0.00        0.0   \n",
       "\n",
       "game_id               ...  994489  9946133  99484728  99640715  99704390  \\\n",
       "game_name             ...                                                  \n",
       "7 Days to Die         ...     0.0      0.0       0.0       0.0     0.000   \n",
       "APB Reloaded          ...     0.0      0.0       0.0       0.0    -0.475   \n",
       "ARK Survival Evolved  ...     0.0      0.0       0.0       0.0     0.000   \n",
       "Ace of Spades         ...     0.0      0.0       0.0       0.0     0.000   \n",
       "AdVenture Capitalist  ...     0.0      0.0       0.0       0.0     0.000   \n",
       "...                   ...     ...      ...       ...       ...       ...   \n",
       "Worms Reloaded        ...     0.0      0.0       0.0       0.0     0.000   \n",
       "Worms Revolution      ...     0.0      0.0       0.0       0.0     0.000   \n",
       "XCOM Enemy Unknown    ...     0.0      0.0       0.0       0.0     0.000   \n",
       "Zombie Panic Source   ...     0.0      0.0       0.0       0.0     0.000   \n",
       "theHunter             ...     0.0      0.0       0.0       0.0     0.000   \n",
       "\n",
       "game_id               99711581  99713453  99723205  99766416  99802512  \n",
       "game_name                                                               \n",
       "7 Days to Die         0.000000       0.0       0.0       0.0       0.0  \n",
       "APB Reloaded         -0.166667       0.0       0.0       0.0       0.0  \n",
       "ARK Survival Evolved  0.000000       0.0       0.0       0.0       0.0  \n",
       "Ace of Spades         0.000000       0.0       0.0       0.0       0.0  \n",
       "AdVenture Capitalist  0.000000       0.0       0.0       0.0       0.0  \n",
       "...                        ...       ...       ...       ...       ...  \n",
       "Worms Reloaded        0.000000       0.0       0.0       0.0       0.0  \n",
       "Worms Revolution      0.000000       0.0       0.0       0.0       0.0  \n",
       "XCOM Enemy Unknown    0.000000       0.0       0.0       0.0       0.0  \n",
       "Zombie Panic Source   0.000000       0.0       0.0       0.0       0.0  \n",
       "theHunter             0.000000       0.0       0.0       0.0       0.0  \n",
       "\n",
       "[431 rows x 3059 columns]"
      ]
     },
     "execution_count": 77,
     "metadata": {},
     "output_type": "execute_result"
    }
   ],
   "source": [
    "pv"
   ]
  },
  {
   "cell_type": "code",
   "execution_count": 58,
   "metadata": {
    "execution": {
     "iopub.execute_input": "2022-08-10T06:53:50.410333Z",
     "iopub.status.busy": "2022-08-10T06:53:50.409559Z",
     "iopub.status.idle": "2022-08-10T06:53:50.597590Z",
     "shell.execute_reply": "2022-08-10T06:53:50.596504Z",
     "shell.execute_reply.started": "2022-08-10T06:53:50.410286Z"
    }
   },
   "outputs": [
    {
     "data": {
      "text/plain": [
       "NearestNeighbors(algorithm='brute', metric='cosine', n_jobs=-1, n_neighbors=20,\n",
       "                 radius=1)"
      ]
     },
     "execution_count": 58,
     "metadata": {},
     "output_type": "execute_result"
    }
   ],
   "source": [
    "from sklearn.neighbors import NearestNeighbors\n",
    "knn = NearestNeighbors(algorithm='brute',leaf_size=30,metric='cosine',metric_params=None,n_jobs=-1,n_neighbors=20,p=2,radius=1)\n",
    "knn.fit(pv)"
   ]
  },
  {
   "cell_type": "code",
   "execution_count": 73,
   "metadata": {
    "execution": {
     "iopub.execute_input": "2022-08-10T06:53:50.600204Z",
     "iopub.status.busy": "2022-08-10T06:53:50.599210Z",
     "iopub.status.idle": "2022-08-10T06:53:50.609320Z",
     "shell.execute_reply": "2022-08-10T06:53:50.607947Z",
     "shell.execute_reply.started": "2022-08-10T06:53:50.600153Z"
    }
   },
   "outputs": [
    {
     "name": "stdout",
     "output_type": "stream",
     "text": [
      "The Choosen Game =  Undertale\n"
     ]
    }
   ],
   "source": [
    "qury = np.random.choice(pv.shape[0])\n",
    "print(\"The Choosen Game = \",pv.index[qury])"
   ]
  },
  {
   "cell_type": "code",
   "execution_count": 74,
   "metadata": {
    "execution": {
     "iopub.execute_input": "2022-08-10T06:53:50.612095Z",
     "iopub.status.busy": "2022-08-10T06:53:50.611501Z",
     "iopub.status.idle": "2022-08-10T06:53:50.730920Z",
     "shell.execute_reply": "2022-08-10T06:53:50.729623Z",
     "shell.execute_reply.started": "2022-08-10T06:53:50.612042Z"
    }
   },
   "outputs": [],
   "source": [
    "distance , indices = knn.kneighbors(pv.iloc[qury,:].values.reshape(1,-1),n_neighbors=6)\n"
   ]
  },
  {
   "cell_type": "code",
   "execution_count": 75,
   "metadata": {
    "execution": {
     "iopub.execute_input": "2022-08-10T06:53:50.741221Z",
     "iopub.status.busy": "2022-08-10T06:53:50.734199Z",
     "iopub.status.idle": "2022-08-10T06:53:50.754023Z",
     "shell.execute_reply": "2022-08-10T06:53:50.752762Z",
     "shell.execute_reply.started": "2022-08-10T06:53:50.741150Z"
    }
   },
   "outputs": [
    {
     "name": "stdout",
     "output_type": "stream",
     "text": [
      "Recommendation for Undertale \n",
      "\n",
      "1 : The Stanley Parable with distance of 0.8861672844187608\n",
      "2 : Papers, Please with distance of 0.894948065928262\n",
      "3 : Starbound with distance of 0.9202652940317355\n",
      "4 : Democracy 3 with distance of 0.9312914487008908\n",
      "5 : The Wolf Among Us with distance of 0.9313123635095015\n"
     ]
    }
   ],
   "source": [
    "for i in range(0,len(distance.flatten())):\n",
    "    if i == 0:\n",
    "        print('Recommendation for {0} \\n'.format(pv.index[qury]))\n",
    "    else:\n",
    "        print('{0} : {1} with distance of {2}'.format(i,pv.index[indices.flatten()[i]], distance.flatten()[i]))"
   ]
  },
  {
   "cell_type": "code",
   "execution_count": null,
   "metadata": {},
   "outputs": [],
   "source": []
  },
  {
   "cell_type": "code",
   "execution_count": null,
   "metadata": {},
   "outputs": [],
   "source": []
  }
 ],
 "metadata": {
  "kernelspec": {
   "display_name": "Python 3 (ipykernel)",
   "language": "python",
   "name": "python3"
  },
  "language_info": {
   "codemirror_mode": {
    "name": "ipython",
    "version": 3
   },
   "file_extension": ".py",
   "mimetype": "text/x-python",
   "name": "python",
   "nbconvert_exporter": "python",
   "pygments_lexer": "ipython3",
   "version": "3.9.12"
  }
 },
 "nbformat": 4,
 "nbformat_minor": 4
}
